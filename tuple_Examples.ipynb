{
 "cells": [
  {
   "cell_type": "markdown",
   "id": "6984386d-db53-479d-97cc-a7efcb920a5d",
   "metadata": {},
   "source": [
    "# Tuple Examples."
   ]
  },
  {
   "cell_type": "markdown",
   "id": "612f606e-13df-404d-bc94-823379fd6f09",
   "metadata": {},
   "source": [
    "1. how to creat tuples python?"
   ]
  },
  {
   "cell_type": "code",
   "execution_count": 5,
   "id": "ca001253-118c-48e8-9fbd-3c3a993281ff",
   "metadata": {},
   "outputs": [
    {
     "data": {
      "text/plain": [
       "(22, 34, 44, 66)"
      ]
     },
     "execution_count": 5,
     "metadata": {},
     "output_type": "execute_result"
    }
   ],
   "source": [
    "a = (22,34,44,66)\n",
    "a"
   ]
  },
  {
   "cell_type": "raw",
   "id": "b199db98-6709-44bf-b4d5-30e4f7a44225",
   "metadata": {},
   "source": [
    "2.how to use length function in tuples and how to count the length of tuples?"
   ]
  },
  {
   "cell_type": "code",
   "execution_count": 7,
   "id": "51ec8807-ac7d-416d-9e1f-c6800f6a80cc",
   "metadata": {},
   "outputs": [
    {
     "data": {
      "text/plain": [
       "5"
      ]
     },
     "execution_count": 7,
     "metadata": {},
     "output_type": "execute_result"
    }
   ],
   "source": [
    "a=(10,20,30,40,50)\n",
    "len(a)"
   ]
  },
  {
   "cell_type": "raw",
   "id": "e8c1f098-67eb-4cf3-a36c-2d4deb6227cf",
   "metadata": {},
   "source": [
    "3. count the duplicated elements in tuples?"
   ]
  },
  {
   "cell_type": "code",
   "execution_count": 9,
   "id": "eebfd12a-af6c-4737-b372-f18dc8aa3176",
   "metadata": {},
   "outputs": [
    {
     "data": {
      "text/plain": [
       "3"
      ]
     },
     "execution_count": 9,
     "metadata": {},
     "output_type": "execute_result"
    }
   ],
   "source": [
    "a=(10,20,30,40,20,50,20)\n",
    "a.count(20)"
   ]
  },
  {
   "cell_type": "raw",
   "id": "ed0e0084-e0f5-4921-8f52-3c0f6ab87dda",
   "metadata": {},
   "source": [
    "4. show the index of elements of 45 and 890?"
   ]
  },
  {
   "cell_type": "code",
   "execution_count": 11,
   "id": "0087198e-4e5e-4e90-8c50-eae06380f3b5",
   "metadata": {},
   "outputs": [
    {
     "data": {
      "text/plain": [
       "2"
      ]
     },
     "execution_count": 11,
     "metadata": {},
     "output_type": "execute_result"
    }
   ],
   "source": [
    "a=(22,3,45,4,2.4,2,56,890,1)\n",
    "a.index(45)"
   ]
  },
  {
   "cell_type": "code",
   "execution_count": 13,
   "id": "60c235b3-0274-4111-b58b-c0fb3a35b41d",
   "metadata": {},
   "outputs": [
    {
     "data": {
      "text/plain": [
       "7"
      ]
     },
     "execution_count": 13,
     "metadata": {},
     "output_type": "execute_result"
    }
   ],
   "source": [
    "a.index(890)"
   ]
  },
  {
   "cell_type": "raw",
   "id": "65b9585c-82bd-4495-a8ac-25bb4237f05f",
   "metadata": {},
   "source": [
    "5.given tuple are sote by using the sort function?"
   ]
  },
  {
   "cell_type": "code",
   "execution_count": 15,
   "id": "9ce54bab-210c-41fd-87f0-6657877792cc",
   "metadata": {},
   "outputs": [
    {
     "data": {
      "text/plain": [
       "[0, 1, 2, 3, 4, 5, 6, 7, 8, 9, 10]"
      ]
     },
     "execution_count": 15,
     "metadata": {},
     "output_type": "execute_result"
    }
   ],
   "source": [
    "a=(10,9,8,7,6,5,4,3,2,1,0)\n",
    "sorted(a)"
   ]
  },
  {
   "cell_type": "code",
   "execution_count": null,
   "id": "8804ecfb-4d30-4179-b224-efc309723c88",
   "metadata": {},
   "outputs": [],
   "source": []
  }
 ],
 "metadata": {
  "kernelspec": {
   "display_name": "Python [conda env:base] *",
   "language": "python",
   "name": "conda-base-py"
  },
  "language_info": {
   "codemirror_mode": {
    "name": "ipython",
    "version": 3
   },
   "file_extension": ".py",
   "mimetype": "text/x-python",
   "name": "python",
   "nbconvert_exporter": "python",
   "pygments_lexer": "ipython3",
   "version": "3.12.7"
  }
 },
 "nbformat": 4,
 "nbformat_minor": 5
}
