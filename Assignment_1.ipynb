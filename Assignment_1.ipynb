{
 "cells": [
  {
   "cell_type": "markdown",
   "id": "5b33b647-38cd-428f-a5e0-cd154e2fb4a6",
   "metadata": {},
   "source": [
    " 1.How would you convert one data type to another in Python? For example, an integer to a string. "
   ]
  },
  {
   "cell_type": "code",
   "execution_count": 1,
   "id": "218e1730-f29e-4cdf-b40b-5b28a170a7f1",
   "metadata": {},
   "outputs": [
    {
     "data": {
      "text/plain": [
       "'3'"
      ]
     },
     "execution_count": 1,
     "metadata": {},
     "output_type": "execute_result"
    }
   ],
   "source": [
    "a = 3\n",
    "str(a)"
   ]
  },
  {
   "cell_type": "markdown",
   "id": "8b4858d4-ce20-41c2-9791-0b1e93965d47",
   "metadata": {},
   "source": [
    "2. What is the difference between == and = in Python? "
   ]
  },
  {
   "cell_type": "markdown",
   "id": "1aa559cd-dad3-4035-b410-0653ed4402f8",
   "metadata": {},
   "source": [
    "in the python '=' use for assign the values to a variables. for example a = 5 \n",
    "and the '==' use for  comparison to check two values are equal for example if a == 7:  # Checks if a is equal to 7  print(\"equal..\")"
   ]
  },
  {
   "cell_type": "markdown",
   "id": "6b63dceb-dc89-4b7b-963b-0a6db094023a",
   "metadata": {},
   "source": [
    "3. How does the modulus operator (%) work in Python? \n",
    "  The modulus operator (%) returns the remainder of a division.\n",
    "for example "
   ]
  },
  {
   "cell_type": "code",
   "execution_count": 9,
   "id": "c82d76c5-38d7-400d-b1ac-942ab088a5a2",
   "metadata": {},
   "outputs": [
    {
     "data": {
      "text/plain": [
       "1"
      ]
     },
     "execution_count": 9,
     "metadata": {},
     "output_type": "execute_result"
    }
   ],
   "source": [
    "10 % 3 # this will give the 1 as a remainder value."
   ]
  },
  {
   "cell_type": "markdown",
   "id": "f2209bde-4685-4887-955f-8b66448e25b5",
   "metadata": {},
   "source": [
    "It is  useful when you want to check if a number is even or odd.\n",
    "for example if x % 2 ==  0   checks if a number is even. "
   ]
  },
  {
   "cell_type": "markdown",
   "id": "56e908cc-4b2e-4081-84f9-5c49b3df0af0",
   "metadata": {},
   "source": [
    "4. What is type casting, and why is it important in Python? \n",
    "Type casting is the process of converting one data type to another, such as converting an integer to a float or a string. \n",
    "It's important because in Python, different operations require specific types"
   ]
  },
  {
   "cell_type": "markdown",
   "id": "4012b749-216b-4b65-9099-86534414b163",
   "metadata": {},
   "source": [
    "5. What will be the output of 3 * \"Hello\" in Python? Explain why. "
   ]
  },
  {
   "cell_type": "code",
   "execution_count": 13,
   "id": "659d53a8-3e92-49bf-a468-623c224bb0f2",
   "metadata": {},
   "outputs": [],
   "source": [
    "  a = 3*(\"hello\")"
   ]
  },
  {
   "cell_type": "code",
   "execution_count": 15,
   "id": "ec9c48bf-1029-4fef-9291-05ccedf250db",
   "metadata": {},
   "outputs": [
    {
     "data": {
      "text/plain": [
       "'hellohellohello'"
      ]
     },
     "execution_count": 15,
     "metadata": {},
     "output_type": "execute_result"
    }
   ],
   "source": [
    " a"
   ]
  },
  {
   "cell_type": "markdown",
   "id": "42500188-5d23-486a-a2c8-f62394fa0055",
   "metadata": {},
   "source": [
    "In Python, multiplying a string by an integer repeats the string that many times. \n",
    "So, \"Hello\" * 3  \"Hello\" three times print.\n"
   ]
  },
  {
   "cell_type": "markdown",
   "id": "215cbe59-5575-4eb8-8319-2ca69a4b8e24",
   "metadata": {},
   "source": [
    "5. What is string concatenation, and how would you do it in Python"
   ]
  },
  {
   "cell_type": "code",
   "execution_count": 17,
   "id": "52096cac-cacf-4292-9907-6df921eafceb",
   "metadata": {},
   "outputs": [
    {
     "data": {
      "text/plain": [
       "'ankita gaikwad'"
      ]
     },
     "execution_count": 17,
     "metadata": {},
     "output_type": "execute_result"
    }
   ],
   "source": [
    "fast_name = \"ankita\"\n",
    "last_name = \"gaikwad\"\n",
    "full_name = fast_name + \" \" + last_name \n",
    "full_name"
   ]
  },
  {
   "cell_type": "code",
   "execution_count": null,
   "id": "a6b9af3c-c139-4420-833d-d4bae884ee1e",
   "metadata": {},
   "outputs": [],
   "source": []
  }
 ],
 "metadata": {
  "kernelspec": {
   "display_name": "Python [conda env:base] *",
   "language": "python",
   "name": "conda-base-py"
  },
  "language_info": {
   "codemirror_mode": {
    "name": "ipython",
    "version": 3
   },
   "file_extension": ".py",
   "mimetype": "text/x-python",
   "name": "python",
   "nbconvert_exporter": "python",
   "pygments_lexer": "ipython3",
   "version": "3.12.7"
  }
 },
 "nbformat": 4,
 "nbformat_minor": 5
}
