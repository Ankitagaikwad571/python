{
 "cells": [
  {
   "cell_type": "markdown",
   "id": "0c3827d2-3119-48b4-b3ae-67bac41f68d1",
   "metadata": {},
   "source": [
    "# List Examples...."
   ]
  },
  {
   "cell_type": "raw",
   "id": "d1a618dd-8af4-40f5-9a21-1a6608801b5c",
   "metadata": {},
   "source": [
    "1.what will be the result of the following the syntax?"
   ]
  },
  {
   "cell_type": "code",
   "execution_count": 9,
   "id": "7cfe6d77-2063-4298-93ae-2f33a9bff2bc",
   "metadata": {},
   "outputs": [],
   "source": [
    "mylist = [1,2,3]\n",
    "mylist=[2]"
   ]
  },
  {
   "cell_type": "code",
   "execution_count": 11,
   "id": "185bfac2-11c0-4ad5-82c1-05ee553a3628",
   "metadata": {},
   "outputs": [
    {
     "data": {
      "text/plain": [
       "[2]"
      ]
     },
     "execution_count": 11,
     "metadata": {},
     "output_type": "execute_result"
    }
   ],
   "source": [
    "mylist"
   ]
  },
  {
   "cell_type": "raw",
   "id": "c7d068b8-67d5-48be-a44e-412d30d63e9d",
   "metadata": {},
   "source": [
    "2.select the correct function for returning the number of items in list?"
   ]
  },
  {
   "cell_type": "code",
   "execution_count": 13,
   "id": "bdd68e56-83bd-471f-94c6-05ccaac69c3d",
   "metadata": {},
   "outputs": [
    {
     "data": {
      "text/plain": [
       "10"
      ]
     },
     "execution_count": 13,
     "metadata": {},
     "output_type": "execute_result"
    }
   ],
   "source": [
    "mylist = [1,2,3,4,5,6,7,8,9,10]\n",
    "len(mylist)"
   ]
  },
  {
   "cell_type": "raw",
   "id": "cd565332-ae09-4b6d-a40d-e441cc5347b8",
   "metadata": {},
   "source": [
    "3.what will be the result of the following the syntax?"
   ]
  },
  {
   "cell_type": "code",
   "execution_count": 17,
   "id": "cae0d6c5-02c7-4e35-8ebf-391cc30dc63a",
   "metadata": {},
   "outputs": [
    {
     "data": {
      "text/plain": [
       "10"
      ]
     },
     "execution_count": 17,
     "metadata": {},
     "output_type": "execute_result"
    }
   ],
   "source": [
    "a = [10,20,30,40,50]\n",
    "a[0]"
   ]
  },
  {
   "cell_type": "code",
   "execution_count": 19,
   "id": "3a56a8ad-aff8-4495-8669-87ea36ae3e1f",
   "metadata": {},
   "outputs": [
    {
     "data": {
      "text/plain": [
       "50"
      ]
     },
     "execution_count": 19,
     "metadata": {},
     "output_type": "execute_result"
    }
   ],
   "source": [
    "a[-1]"
   ]
  },
  {
   "cell_type": "raw",
   "id": "a193ff3e-23e5-4cc8-89d0-c0fe389c3c17",
   "metadata": {},
   "source": [
    "4.what will be the result of the following the syntax?"
   ]
  },
  {
   "cell_type": "code",
   "execution_count": 21,
   "id": "dd99393a-109d-47f5-b175-e2e24512926c",
   "metadata": {},
   "outputs": [
    {
     "data": {
      "text/plain": [
       "[20, 30, 40]"
      ]
     },
     "execution_count": 21,
     "metadata": {},
     "output_type": "execute_result"
    }
   ],
   "source": [
    "a = [10,20,30,40,50]\n",
    "a[1:4]"
   ]
  },
  {
   "cell_type": "code",
   "execution_count": 23,
   "id": "228a7e70-3bbf-43b9-96f5-2b2121cfa005",
   "metadata": {},
   "outputs": [
    {
     "data": {
      "text/plain": [
       "[20, 50]"
      ]
     },
     "execution_count": 23,
     "metadata": {},
     "output_type": "execute_result"
    }
   ],
   "source": [
    "a[1::3]"
   ]
  },
  {
   "cell_type": "code",
   "execution_count": 29,
   "id": "dee55d38-7351-4605-8b94-45c4f1050368",
   "metadata": {},
   "outputs": [
    {
     "data": {
      "text/plain": [
       "[50, 40, 30, 20, 10]"
      ]
     },
     "execution_count": 29,
     "metadata": {},
     "output_type": "execute_result"
    }
   ],
   "source": [
    "a[5::-1] # ending revres elements - to + using this function"
   ]
  },
  {
   "cell_type": "raw",
   "id": "8560c4ac-1fe3-430f-bb3f-b6e71ac42f7a",
   "metadata": {},
   "source": [
    "5. change  the items at index one?"
   ]
  },
  {
   "cell_type": "code",
   "execution_count": 6,
   "id": "90249249-4854-400a-8734-9301f77b87dd",
   "metadata": {},
   "outputs": [
    {
     "data": {
      "text/plain": [
       "[10, 30, 30, 40, 50]"
      ]
     },
     "execution_count": 6,
     "metadata": {},
     "output_type": "execute_result"
    }
   ],
   "source": [
    "a = [10,20,30,40,50]\n",
    "a[1]=30\n",
    "a"
   ]
  },
  {
   "cell_type": "raw",
   "id": "43b27de8-7476-4247-aefb-882558621648",
   "metadata": {},
   "source": [
    "6.how to replcing 30 to 99 in the list"
   ]
  },
  {
   "cell_type": "code",
   "execution_count": 14,
   "id": "dd2a7227-aba2-48a8-ad47-2c95ad94d626",
   "metadata": {},
   "outputs": [
    {
     "data": {
      "text/plain": [
       "[10, 20, 99, 40, 50]"
      ]
     },
     "execution_count": 14,
     "metadata": {},
     "output_type": "execute_result"
    }
   ],
   "source": [
    "a = [10,20,30,40,50]\n",
    "a[2]=99\n",
    "a"
   ]
  },
  {
   "cell_type": "raw",
   "id": "350da6f6-01d1-4a98-9617-8dd5ed9fdec6",
   "metadata": {},
   "source": [
    "7. use the append function to add element 60 to the end of the list?"
   ]
  },
  {
   "cell_type": "code",
   "execution_count": 18,
   "id": "0570119a-753d-404c-b078-133497e683c1",
   "metadata": {},
   "outputs": [
    {
     "data": {
      "text/plain": [
       "[10, 20, 30, 40, 50, 60]"
      ]
     },
     "execution_count": 18,
     "metadata": {},
     "output_type": "execute_result"
    }
   ],
   "source": [
    "a =[10,20,30,40,50]\n",
    "a.append(60)\n",
    "a"
   ]
  },
  {
   "cell_type": "raw",
   "id": "8da98f31-c999-4731-b9ee-e1ba7ecb928f",
   "metadata": {},
   "source": [
    "8.how to use the insert function to add object in the list?"
   ]
  },
  {
   "cell_type": "code",
   "execution_count": 26,
   "id": "95f50013-a157-4a98-9ebc-873ac711f517",
   "metadata": {},
   "outputs": [
    {
     "data": {
      "text/plain": [
       "[1, 2, 5, 6, 7, 8, 9, 10]"
      ]
     },
     "execution_count": 26,
     "metadata": {},
     "output_type": "execute_result"
    }
   ],
   "source": [
    "a = [2,5,6,7,8,9]\n",
    "a.insert(6,10)\n",
    "a.insert(0,1)\n",
    "a"
   ]
  },
  {
   "cell_type": "raw",
   "id": "1ac574c0-e4a1-499a-9618-02bf74816829",
   "metadata": {},
   "source": [
    "9. use extend function to add multiple elements to the list?"
   ]
  },
  {
   "cell_type": "code",
   "execution_count": 28,
   "id": "90a43c60-a0ee-4cdc-b1b8-1c0566a1d6e6",
   "metadata": {},
   "outputs": [
    {
     "data": {
      "text/plain": [
       "[1, 2, 3, 4, 5, 6, 7]"
      ]
     },
     "execution_count": 28,
     "metadata": {},
     "output_type": "execute_result"
    }
   ],
   "source": [
    "a=[1,2,3]\n",
    "b=[4,5,6,7]\n",
    "a.extend(b)\n",
    "a"
   ]
  },
  {
   "cell_type": "code",
   "execution_count": null,
   "id": "2a84d639-2bd4-4ba2-9320-3b24ffd2fb82",
   "metadata": {},
   "outputs": [],
   "source": []
  }
 ],
 "metadata": {
  "kernelspec": {
   "display_name": "Python [conda env:base] *",
   "language": "python",
   "name": "conda-base-py"
  },
  "language_info": {
   "codemirror_mode": {
    "name": "ipython",
    "version": 3
   },
   "file_extension": ".py",
   "mimetype": "text/x-python",
   "name": "python",
   "nbconvert_exporter": "python",
   "pygments_lexer": "ipython3",
   "version": "3.12.7"
  }
 },
 "nbformat": 4,
 "nbformat_minor": 5
}
