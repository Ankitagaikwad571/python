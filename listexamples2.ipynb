{
 "cells": [
  {
   "cell_type": "markdown",
   "id": "087743b5-20fd-4380-961d-d9956e0dbc99",
   "metadata": {},
   "source": [
    "Variable Manipulation: o Define variables to store a techaer's name, age, and list of subjects. \n",
    "o Convert age from years to months and display the result.\n",
    "o Concatenate and print a sentence using all the defined variables\n"
   ]
  },
  {
   "cell_type": "code",
   "execution_count": 2,
   "id": "a1acbca4-87ca-4134-9ce8-02f9df61f072",
   "metadata": {},
   "outputs": [],
   "source": [
    "name=['ankita','rohit','rahul','sumit']"
   ]
  },
  {
   "cell_type": "code",
   "execution_count": 4,
   "id": "3cf9ecc5-5745-43b1-9ac0-1821db74b803",
   "metadata": {},
   "outputs": [
    {
     "data": {
      "text/plain": [
       "['ankita', 'rohit', 'rahul', 'sumit']"
      ]
     },
     "execution_count": 4,
     "metadata": {},
     "output_type": "execute_result"
    }
   ],
   "source": [
    "name"
   ]
  },
  {
   "cell_type": "code",
   "execution_count": 8,
   "id": "0be1d924-12dc-41b2-8582-43007d1d26cc",
   "metadata": {},
   "outputs": [],
   "source": [
    "age=28"
   ]
  },
  {
   "cell_type": "code",
   "execution_count": null,
   "id": "18c97fe4-7bb5-4e58-8a82-dd9a593c6682",
   "metadata": {},
   "outputs": [],
   "source": []
  },
  {
   "cell_type": "code",
   "execution_count": 12,
   "id": "5be594dd-8032-4e0a-bb90-cff88728ac0a",
   "metadata": {},
   "outputs": [],
   "source": [
    "sub=['C','JAVA','C++','PYTHON']"
   ]
  },
  {
   "cell_type": "code",
   "execution_count": 16,
   "id": "b70ecca8-8ca9-4455-8740-6bb0cdbe12f9",
   "metadata": {},
   "outputs": [],
   "source": [
    "month=age*12"
   ]
  },
  {
   "cell_type": "code",
   "execution_count": 18,
   "id": "9faea10c-6edd-43b5-b816-0847c1255237",
   "metadata": {},
   "outputs": [
    {
     "data": {
      "text/plain": [
       "336"
      ]
     },
     "execution_count": 18,
     "metadata": {},
     "output_type": "execute_result"
    }
   ],
   "source": [
    "month"
   ]
  },
  {
   "cell_type": "code",
   "execution_count": 28,
   "id": "0a9b2a66-924a-40a4-ab35-90dbc4e7006b",
   "metadata": {},
   "outputs": [
    {
     "name": "stdout",
     "output_type": "stream",
     "text": [
      "['ankita', 'rohit', 'rahul', 'sumit'] 28 ['C', 'JAVA', 'C++', 'PYTHON'] 336\n"
     ]
    }
   ],
   "source": [
    "print(name,age,sub,month)"
   ]
  },
  {
   "cell_type": "code",
   "execution_count": 47,
   "id": "06a4fc1c-9682-4745-a3ad-b67ff02ab150",
   "metadata": {},
   "outputs": [],
   "source": [
    "a=[10,20,30,40,50,50,60,20,30]"
   ]
  },
  {
   "cell_type": "code",
   "execution_count": 49,
   "id": "8693b248-91ee-446a-82e4-7b571515ee52",
   "metadata": {},
   "outputs": [],
   "source": [
    "a.append(60)"
   ]
  },
  {
   "cell_type": "code",
   "execution_count": 51,
   "id": "04ed0f4f-f8b4-44e1-bdb1-9e359cda0199",
   "metadata": {},
   "outputs": [
    {
     "data": {
      "text/plain": [
       "[10, 20, 30, 40, 50, 50, 60, 20, 30, 60]"
      ]
     },
     "execution_count": 51,
     "metadata": {},
     "output_type": "execute_result"
    }
   ],
   "source": [
    "a"
   ]
  },
  {
   "cell_type": "code",
   "execution_count": 53,
   "id": "f5f088e6-b47b-4a51-a038-70c5c7f68359",
   "metadata": {},
   "outputs": [],
   "source": [
    "a.insert(1,0)"
   ]
  },
  {
   "cell_type": "code",
   "execution_count": 55,
   "id": "6e5e3590-3285-47ed-b713-b704884e78a8",
   "metadata": {},
   "outputs": [
    {
     "data": {
      "text/plain": [
       "[10, 0, 20, 30, 40, 50, 50, 60, 20, 30, 60]"
      ]
     },
     "execution_count": 55,
     "metadata": {},
     "output_type": "execute_result"
    }
   ],
   "source": [
    "a"
   ]
  },
  {
   "cell_type": "code",
   "execution_count": 57,
   "id": "003c8131-13fe-44ed-afa9-d4f48b6dc6c2",
   "metadata": {},
   "outputs": [],
   "source": [
    "a1=set(a)"
   ]
  },
  {
   "cell_type": "code",
   "execution_count": 59,
   "id": "ef1df369-2a89-473c-b6de-688f8e73e25b",
   "metadata": {},
   "outputs": [
    {
     "data": {
      "text/plain": [
       "[10, 0, 20, 30, 40, 50, 50, 60, 20, 30, 60]"
      ]
     },
     "execution_count": 59,
     "metadata": {},
     "output_type": "execute_result"
    }
   ],
   "source": [
    "a"
   ]
  },
  {
   "cell_type": "code",
   "execution_count": 63,
   "id": "9b013c95-695f-4c52-a52a-94ae7a01d66c",
   "metadata": {},
   "outputs": [],
   "source": [
    "A=set(a)"
   ]
  },
  {
   "cell_type": "code",
   "execution_count": 65,
   "id": "d79e5372-ce19-4937-9789-60541a0f4de2",
   "metadata": {},
   "outputs": [
    {
     "data": {
      "text/plain": [
       "{0, 10, 20, 30, 40, 50, 60}"
      ]
     },
     "execution_count": 65,
     "metadata": {},
     "output_type": "execute_result"
    }
   ],
   "source": [
    "A"
   ]
  },
  {
   "cell_type": "code",
   "execution_count": 67,
   "id": "02692f0a-8b8e-461e-8caf-6492545fad43",
   "metadata": {},
   "outputs": [],
   "source": [
    "A1=list(A)"
   ]
  },
  {
   "cell_type": "code",
   "execution_count": 69,
   "id": "a003fba9-c97f-4a63-b189-7367b2fcc850",
   "metadata": {},
   "outputs": [
    {
     "data": {
      "text/plain": [
       "[0, 40, 10, 50, 20, 60, 30]"
      ]
     },
     "execution_count": 69,
     "metadata": {},
     "output_type": "execute_result"
    }
   ],
   "source": [
    "A1"
   ]
  },
  {
   "cell_type": "code",
   "execution_count": 71,
   "id": "fb6fe372-49e3-4cf3-86a0-a5f7f38c0900",
   "metadata": {},
   "outputs": [
    {
     "data": {
      "text/plain": [
       "set"
      ]
     },
     "execution_count": 71,
     "metadata": {},
     "output_type": "execute_result"
    }
   ],
   "source": [
    "type(A)"
   ]
  },
  {
   "cell_type": "code",
   "execution_count": 73,
   "id": "b493a91d-9500-456c-92e4-c6cdcc7c6879",
   "metadata": {},
   "outputs": [
    {
     "data": {
      "text/plain": [
       "list"
      ]
     },
     "execution_count": 73,
     "metadata": {},
     "output_type": "execute_result"
    }
   ],
   "source": [
    "type(A1)"
   ]
  },
  {
   "cell_type": "code",
   "execution_count": 95,
   "id": "aa92d0ec-5af8-4cf2-a1af-7aa9c55568d6",
   "metadata": {},
   "outputs": [],
   "source": [
    "x=['abc','aku','ahi','kiy','kiy','abc','aku','ahi']"
   ]
  },
  {
   "cell_type": "code",
   "execution_count": 97,
   "id": "81a3cf08-746d-40e3-828b-ce8f8b94242c",
   "metadata": {},
   "outputs": [],
   "source": [
    "s=set(x)"
   ]
  },
  {
   "cell_type": "code",
   "execution_count": 99,
   "id": "d23a8bcf-5d21-4db7-ae3f-35c4dd6c31fd",
   "metadata": {},
   "outputs": [
    {
     "data": {
      "text/plain": [
       "{'abc', 'ahi', 'aku', 'kiy'}"
      ]
     },
     "execution_count": 99,
     "metadata": {},
     "output_type": "execute_result"
    }
   ],
   "source": [
    "s"
   ]
  },
  {
   "cell_type": "code",
   "execution_count": 81,
   "id": "43b66d1b-296b-4d9b-82c8-cc02783c8247",
   "metadata": {},
   "outputs": [],
   "source": [
    "c=list(b)"
   ]
  },
  {
   "cell_type": "code",
   "execution_count": 83,
   "id": "393b5d7b-caff-4769-8cc9-36ae26589d10",
   "metadata": {},
   "outputs": [
    {
     "data": {
      "text/plain": [
       "['ahi', 'abc', 'aku', 'kiy']"
      ]
     },
     "execution_count": 83,
     "metadata": {},
     "output_type": "execute_result"
    }
   ],
   "source": [
    "c"
   ]
  },
  {
   "cell_type": "code",
   "execution_count": 85,
   "id": "1f2b3c12-4bef-4cf1-b971-df1143762a9c",
   "metadata": {},
   "outputs": [],
   "source": [
    "y=[10,10,10,30,40,40,30,10]"
   ]
  },
  {
   "cell_type": "code",
   "execution_count": 105,
   "id": "d505432e-d883-434e-9cfd-c537491927f8",
   "metadata": {},
   "outputs": [],
   "source": [
    "d=set(y)"
   ]
  },
  {
   "cell_type": "code",
   "execution_count": 107,
   "id": "5475fa0a-78f5-4d9d-bd02-15e128457e40",
   "metadata": {},
   "outputs": [
    {
     "data": {
      "text/plain": [
       "{10, 30, 40}"
      ]
     },
     "execution_count": 107,
     "metadata": {},
     "output_type": "execute_result"
    }
   ],
   "source": [
    "d"
   ]
  },
  {
   "cell_type": "code",
   "execution_count": 109,
   "id": "9a828c25-7164-46f3-a698-70569a4c4bb8",
   "metadata": {},
   "outputs": [],
   "source": [
    "k=list(d)"
   ]
  },
  {
   "cell_type": "code",
   "execution_count": 111,
   "id": "a960f044-4b28-4cfd-9223-102a1a4add97",
   "metadata": {},
   "outputs": [
    {
     "data": {
      "text/plain": [
       "[40, 10, 30]"
      ]
     },
     "execution_count": 111,
     "metadata": {},
     "output_type": "execute_result"
    }
   ],
   "source": [
    "k"
   ]
  },
  {
   "cell_type": "code",
   "execution_count": 117,
   "id": "d37233c4-8b73-437f-86cb-f0dba42ffea7",
   "metadata": {},
   "outputs": [
    {
     "data": {
      "text/plain": [
       "[30, 10, 40]"
      ]
     },
     "execution_count": 117,
     "metadata": {},
     "output_type": "execute_result"
    }
   ],
   "source": [
    "k[::-1]"
   ]
  },
  {
   "cell_type": "code",
   "execution_count": 119,
   "id": "8ec3e6df-8d23-4b3f-97e4-4ddd8154f6a2",
   "metadata": {},
   "outputs": [],
   "source": [
    "k[0]=10"
   ]
  },
  {
   "cell_type": "code",
   "execution_count": 121,
   "id": "c268b718-9611-47ce-841c-7062558867e2",
   "metadata": {},
   "outputs": [
    {
     "data": {
      "text/plain": [
       "[10, 10, 30]"
      ]
     },
     "execution_count": 121,
     "metadata": {},
     "output_type": "execute_result"
    }
   ],
   "source": [
    "k"
   ]
  },
  {
   "cell_type": "code",
   "execution_count": 127,
   "id": "1941ec16-cf4a-4ce3-9590-2d8ee8db5c35",
   "metadata": {},
   "outputs": [
    {
     "data": {
      "text/plain": [
       "[10, 10]"
      ]
     },
     "execution_count": 127,
     "metadata": {},
     "output_type": "execute_result"
    }
   ],
   "source": [
    "k[0:2]"
   ]
  },
  {
   "cell_type": "code",
   "execution_count": null,
   "id": "a6f1ef34-5fa6-4cd5-b64d-22a43c03e5e4",
   "metadata": {},
   "outputs": [],
   "source": []
  }
 ],
 "metadata": {
  "kernelspec": {
   "display_name": "Python [conda env:base] *",
   "language": "python",
   "name": "conda-base-py"
  },
  "language_info": {
   "codemirror_mode": {
    "name": "ipython",
    "version": 3
   },
   "file_extension": ".py",
   "mimetype": "text/x-python",
   "name": "python",
   "nbconvert_exporter": "python",
   "pygments_lexer": "ipython3",
   "version": "3.12.7"
  }
 },
 "nbformat": 4,
 "nbformat_minor": 5
}
