{
 "cells": [
  {
   "cell_type": "markdown",
   "id": "151a223f-ab3c-4cac-8336-41d9908d18ed",
   "metadata": {},
   "source": [
    "1.print each fruit in given list"
   ]
  },
  {
   "cell_type": "code",
   "execution_count": 1,
   "id": "247e58bb-1b93-41e8-ab4b-83039204471f",
   "metadata": {},
   "outputs": [
    {
     "name": "stdout",
     "output_type": "stream",
     "text": [
      "apple\n",
      "banana\n",
      "cherry\n"
     ]
    }
   ],
   "source": [
    "f = [\"apple\",\"banana\",\"cherry\"]\n",
    "for i in f:\n",
    "    print(i)"
   ]
  },
  {
   "cell_type": "markdown",
   "id": "d06e3254-482a-4d63-b446-372bc466495d",
   "metadata": {},
   "source": [
    "2.print each number in given tuple"
   ]
  },
  {
   "cell_type": "code",
   "execution_count": 3,
   "id": "87f809dd-1c75-4b0f-be72-e91325dff67d",
   "metadata": {},
   "outputs": [
    {
     "name": "stdout",
     "output_type": "stream",
     "text": [
      "1\n",
      "2\n",
      "3\n",
      "4\n",
      "5\n"
     ]
    }
   ],
   "source": [
    "a  = (1,2,3,4,5)\n",
    "for i in a:\n",
    "    print(i)"
   ]
  },
  {
   "cell_type": "markdown",
   "id": "afad10c9-f5e2-45ab-bf41-9b75ada24489",
   "metadata": {},
   "source": [
    "3. print each character in a set"
   ]
  },
  {
   "cell_type": "code",
   "execution_count": 7,
   "id": "22363619-3967-4fd7-ab1f-291bff974f93",
   "metadata": {},
   "outputs": [
    {
     "name": "stdout",
     "output_type": "stream",
     "text": [
      "H\n",
      "E\n",
      "L\n",
      "O\n"
     ]
    }
   ],
   "source": [
    "i = {'H','E','L','L','O'}\n",
    "for s in i:\n",
    "    print(s)"
   ]
  },
  {
   "cell_type": "markdown",
   "id": "04ebe49e-b802-4519-9437-ca67977f9bd4",
   "metadata": {},
   "source": [
    "4.given string iterable \"apple\""
   ]
  },
  {
   "cell_type": "code",
   "execution_count": 9,
   "id": "2d1acdca-65e8-4003-b532-53c58a680c21",
   "metadata": {},
   "outputs": [
    {
     "name": "stdout",
     "output_type": "stream",
     "text": [
      "a\n",
      "p\n",
      "p\n",
      "l\n",
      "e\n"
     ]
    }
   ],
   "source": [
    "for i in \"apple\":\n",
    "    print(i)"
   ]
  },
  {
   "cell_type": "markdown",
   "id": "099ecd4f-95cd-484f-a41a-e4b1f24bcc7f",
   "metadata": {},
   "source": [
    "5"
   ]
  },
  {
   "cell_type": "code",
   "execution_count": 11,
   "id": "b899da6a-81a8-4bb9-9437-40ba2840c7fb",
   "metadata": {},
   "outputs": [
    {
     "ename": "TypeError",
     "evalue": "'int' object is not iterable",
     "output_type": "error",
     "traceback": [
      "\u001b[1;31m---------------------------------------------------------------------------\u001b[0m",
      "\u001b[1;31mTypeError\u001b[0m                                 Traceback (most recent call last)",
      "Cell \u001b[1;32mIn[11], line 1\u001b[0m\n\u001b[1;32m----> 1\u001b[0m \u001b[38;5;28;01mfor\u001b[39;00m i \u001b[38;5;129;01min\u001b[39;00m  \u001b[38;5;241m150\u001b[39m:\n\u001b[0;32m      2\u001b[0m     \u001b[38;5;28mprint\u001b[39m(i)\n",
      "\u001b[1;31mTypeError\u001b[0m: 'int' object is not iterable"
     ]
    }
   ],
   "source": [
    "for i in  150:\n",
    "    print(i)"
   ]
  },
  {
   "cell_type": "code",
   "execution_count": null,
   "id": "8bd8599f-dfcf-42bd-90d0-3080b5edb7da",
   "metadata": {},
   "outputs": [],
   "source": [
    "t = (1,2,3,4,5,6,7)\n",
    "for i in t:\n",
    "    print"
   ]
  }
 ],
 "metadata": {
  "kernelspec": {
   "display_name": "Python [conda env:base] *",
   "language": "python",
   "name": "conda-base-py"
  },
  "language_info": {
   "codemirror_mode": {
    "name": "ipython",
    "version": 3
   },
   "file_extension": ".py",
   "mimetype": "text/x-python",
   "name": "python",
   "nbconvert_exporter": "python",
   "pygments_lexer": "ipython3",
   "version": "3.12.7"
  }
 },
 "nbformat": 4,
 "nbformat_minor": 5
}
