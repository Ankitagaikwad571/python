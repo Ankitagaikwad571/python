{
 "cells": [
  {
   "cell_type": "code",
   "execution_count": 1,
   "id": "d9d0af74-72ed-4131-bb0b-ddcbf19ccbaf",
   "metadata": {},
   "outputs": [],
   "source": [
    "def add(a,b):\n",
    "    try:\n",
    "        print(a+b)\n",
    "    except Exception as e:\n",
    "        print(e)\n",
    "    finally:\n",
    "        print('function closed.')"
   ]
  },
  {
   "cell_type": "code",
   "execution_count": 5,
   "id": "8c956ca3-9ccc-4a31-b081-9004bbc04e1f",
   "metadata": {},
   "outputs": [
    {
     "name": "stdout",
     "output_type": "stream",
     "text": [
      "unsupported operand type(s) for +: 'int' and 'str'\n",
      "function closed.\n"
     ]
    }
   ],
   "source": [
    "add(3,'as')"
   ]
  },
  {
   "cell_type": "code",
   "execution_count": 7,
   "id": "2cc0a719-b79e-4e27-8979-1a06b8bd6cf5",
   "metadata": {},
   "outputs": [],
   "source": [
    "def sub(a,b):\n",
    "    try:\n",
    "        print(a-b)\n",
    "    except Exception as e:\n",
    "        print(e)\n",
    "    finally:\n",
    "        print('function closed.')"
   ]
  },
  {
   "cell_type": "code",
   "execution_count": 9,
   "id": "d506b81c-9709-4a88-a755-6a3e3bde585d",
   "metadata": {},
   "outputs": [
    {
     "name": "stdout",
     "output_type": "stream",
     "text": [
      "unsupported operand type(s) for -: 'int' and 'str'\n",
      "function closed.\n"
     ]
    }
   ],
   "source": [
    "sub(6,'sd')"
   ]
  },
  {
   "cell_type": "code",
   "execution_count": 11,
   "id": "f59728e1-7528-456c-8af0-8746ef027768",
   "metadata": {},
   "outputs": [],
   "source": [
    "def multi(a,b):\n",
    "    try:\n",
    "        print(a*b)\n",
    "    except Exception as e:\n",
    "        print(e)\n",
    "    finally:\n",
    "        print('function closed.')"
   ]
  },
  {
   "cell_type": "code",
   "execution_count": 19,
   "id": "c2f14ede-a80a-49ab-ae98-2b02108aeaec",
   "metadata": {},
   "outputs": [
    {
     "name": "stdout",
     "output_type": "stream",
     "text": [
      "32\n",
      "function closed.\n"
     ]
    }
   ],
   "source": [
    "multi(8,4)"
   ]
  },
  {
   "cell_type": "code",
   "execution_count": 27,
   "id": "bbc32bf2-4d7b-42fa-a77f-b770fb58078a",
   "metadata": {},
   "outputs": [
    {
     "name": "stdout",
     "output_type": "stream",
     "text": [
      "513\n",
      "function closed.\n"
     ]
    }
   ],
   "source": [
    "multi(57,9)"
   ]
  },
  {
   "cell_type": "code",
   "execution_count": 31,
   "id": "cd524a57-3389-44b7-a494-afb95f40eaa2",
   "metadata": {},
   "outputs": [],
   "source": [
    "def div(a,b):\n",
    "    try:\n",
    "        print(a/b)\n",
    "    except Exception as e:\n",
    "        print(e)\n",
    "    finally:\n",
    "        print('function closed.')"
   ]
  },
  {
   "cell_type": "code",
   "execution_count": 39,
   "id": "ee70eb5b-ea65-40f3-8a90-eca0f85a13b3",
   "metadata": {},
   "outputs": [
    {
     "name": "stdout",
     "output_type": "stream",
     "text": [
      "division by zero\n",
      "function closed.\n"
     ]
    }
   ],
   "source": [
    "div(10,0)"
   ]
  },
  {
   "cell_type": "code",
   "execution_count": null,
   "id": "2a249394-0400-4c7f-80c3-2b5e8ca2974f",
   "metadata": {},
   "outputs": [],
   "source": [
    "def add(a,b):\n",
    "    try:\n",
    "        print(a+b)\n",
    "    except Exception as e:\n",
    "        print(e)\n",
    "    finally:\n",
    "        print('function closed.')"
   ]
  }
 ],
 "metadata": {
  "kernelspec": {
   "display_name": "Python [conda env:base] *",
   "language": "python",
   "name": "conda-base-py"
  },
  "language_info": {
   "codemirror_mode": {
    "name": "ipython",
    "version": 3
   },
   "file_extension": ".py",
   "mimetype": "text/x-python",
   "name": "python",
   "nbconvert_exporter": "python",
   "pygments_lexer": "ipython3",
   "version": "3.12.7"
  }
 },
 "nbformat": 4,
 "nbformat_minor": 5
}
