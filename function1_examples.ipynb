{
 "cells": [
  {
   "cell_type": "markdown",
   "id": "79c298ac-eb56-477d-a13e-482242626caa",
   "metadata": {},
   "source": [
    "Create function for addition of two numbers?"
   ]
  },
  {
   "cell_type": "code",
   "execution_count": 2,
   "id": "8a8bdb99-dedf-4934-b70f-fb14e296e530",
   "metadata": {},
   "outputs": [],
   "source": [
    "def num(a,b):\n",
    "    return a + b"
   ]
  },
  {
   "cell_type": "code",
   "execution_count": 4,
   "id": "2758c1a0-6655-49f6-8626-fe425cdefce0",
   "metadata": {},
   "outputs": [
    {
     "data": {
      "text/plain": [
       "99"
      ]
     },
     "execution_count": 4,
     "metadata": {},
     "output_type": "execute_result"
    }
   ],
   "source": [
    "num(56,43)"
   ]
  },
  {
   "cell_type": "markdown",
   "id": "35efd6fd-60f9-4a04-b6ad-6a1bda5211c1",
   "metadata": {},
   "source": [
    "Create function for subtraction of two numbers?"
   ]
  },
  {
   "cell_type": "code",
   "execution_count": 7,
   "id": "45bed335-4acb-485c-bf29-c893f5a977a9",
   "metadata": {},
   "outputs": [],
   "source": [
    "def sub(x,y):\n",
    "    return x - y"
   ]
  },
  {
   "cell_type": "code",
   "execution_count": 9,
   "id": "d72d3704-2f4c-42e0-8e64-5c04dcba04ab",
   "metadata": {},
   "outputs": [
    {
     "data": {
      "text/plain": [
       "22"
      ]
     },
     "execution_count": 9,
     "metadata": {},
     "output_type": "execute_result"
    }
   ],
   "source": [
    "sub(77,55)"
   ]
  },
  {
   "cell_type": "code",
   "execution_count": null,
   "id": "c46d1e21-7996-4b69-a6f0-f3a0ad7d50e9",
   "metadata": {},
   "outputs": [],
   "source": []
  }
 ],
 "metadata": {
  "kernelspec": {
   "display_name": "Python [conda env:base] *",
   "language": "python",
   "name": "conda-base-py"
  },
  "language_info": {
   "codemirror_mode": {
    "name": "ipython",
    "version": 3
   },
   "file_extension": ".py",
   "mimetype": "text/x-python",
   "name": "python",
   "nbconvert_exporter": "python",
   "pygments_lexer": "ipython3",
   "version": "3.12.7"
  }
 },
 "nbformat": 4,
 "nbformat_minor": 5
}
