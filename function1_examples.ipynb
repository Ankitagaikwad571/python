{
 "cells": [
  {
   "cell_type": "markdown",
   "id": "79c298ac-eb56-477d-a13e-482242626caa",
   "metadata": {},
   "source": [
    "Create function for addition of two numbers?"
   ]
  },
  {
   "cell_type": "code",
   "execution_count": 2,
   "id": "8a8bdb99-dedf-4934-b70f-fb14e296e530",
   "metadata": {},
   "outputs": [],
   "source": [
    "def num(a,b):\n",
    "    return a + b"
   ]
  },
  {
   "cell_type": "code",
   "execution_count": 4,
   "id": "2758c1a0-6655-49f6-8626-fe425cdefce0",
   "metadata": {},
   "outputs": [
    {
     "data": {
      "text/plain": [
       "99"
      ]
     },
     "execution_count": 4,
     "metadata": {},
     "output_type": "execute_result"
    }
   ],
   "source": [
    "num(56,43)"
   ]
  },
  {
   "cell_type": "markdown",
   "id": "35efd6fd-60f9-4a04-b6ad-6a1bda5211c1",
   "metadata": {},
   "source": [
    "Create function for subtraction of two numbers?"
   ]
  },
  {
   "cell_type": "code",
   "execution_count": 7,
   "id": "45bed335-4acb-485c-bf29-c893f5a977a9",
   "metadata": {},
   "outputs": [],
   "source": [
    "def sub(x,y):\n",
    "    return x - y"
   ]
  },
  {
   "cell_type": "code",
   "execution_count": 9,
   "id": "d72d3704-2f4c-42e0-8e64-5c04dcba04ab",
   "metadata": {},
   "outputs": [
    {
     "data": {
      "text/plain": [
       "22"
      ]
     },
     "execution_count": 9,
     "metadata": {},
     "output_type": "execute_result"
    }
   ],
   "source": [
    "sub(77,55)"
   ]
  },
  {
   "cell_type": "markdown",
   "id": "85ecf0e8-7700-4edc-b11e-b40e428e04bb",
   "metadata": {},
   "source": [
    "Create function for multipliaction of two numbers?"
   ]
  },
  {
   "cell_type": "code",
   "execution_count": 12,
   "id": "3e861264-b24b-4c25-b94b-4fb200ef035e",
   "metadata": {},
   "outputs": [],
   "source": [
    "def mult(m,g):\n",
    "    return m * g"
   ]
  },
  {
   "cell_type": "code",
   "execution_count": 14,
   "id": "f6612218-2051-4a22-8942-be49c15af168",
   "metadata": {},
   "outputs": [
    {
     "data": {
      "text/plain": [
       "32"
      ]
     },
     "execution_count": 14,
     "metadata": {},
     "output_type": "execute_result"
    }
   ],
   "source": [
    "mult(4,8)"
   ]
  },
  {
   "cell_type": "markdown",
   "id": "b90afe7b-1114-456b-a439-ec5ea9c29db9",
   "metadata": {},
   "source": [
    "Create function for Cub of two numbers?"
   ]
  },
  {
   "cell_type": "code",
   "execution_count": 16,
   "id": "502069fa-598e-4ab9-a4da-6e4626d72cb5",
   "metadata": {},
   "outputs": [],
   "source": [
    "def cub(p):\n",
    "    return p**3"
   ]
  },
  {
   "cell_type": "code",
   "execution_count": 22,
   "id": "237934dc-8124-45cd-8f2b-3e87ea6ea4b8",
   "metadata": {},
   "outputs": [
    {
     "data": {
      "text/plain": [
       "125"
      ]
     },
     "execution_count": 22,
     "metadata": {},
     "output_type": "execute_result"
    }
   ],
   "source": [
    "cub(5)"
   ]
  },
  {
   "cell_type": "code",
   "execution_count": null,
   "id": "e2da45e6-0a9b-46f4-8c27-8d373e872b0a",
   "metadata": {},
   "outputs": [],
   "source": []
  }
 ],
 "metadata": {
  "kernelspec": {
   "display_name": "Python [conda env:base] *",
   "language": "python",
   "name": "conda-base-py"
  },
  "language_info": {
   "codemirror_mode": {
    "name": "ipython",
    "version": 3
   },
   "file_extension": ".py",
   "mimetype": "text/x-python",
   "name": "python",
   "nbconvert_exporter": "python",
   "pygments_lexer": "ipython3",
   "version": "3.12.7"
  }
 },
 "nbformat": 4,
 "nbformat_minor": 5
}
