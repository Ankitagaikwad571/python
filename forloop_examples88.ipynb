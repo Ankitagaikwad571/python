{
 "cells": [
  {
   "cell_type": "markdown",
   "id": "f54ac6dc-464d-4fae-9df2-21dde94f35cb",
   "metadata": {},
   "source": [
    "# Range of dataset...."
   ]
  },
  {
   "cell_type": "code",
   "execution_count": 4,
   "id": "223dd76b-e85e-41f8-9fbc-71cc734a1b62",
   "metadata": {},
   "outputs": [
    {
     "data": {
      "text/plain": [
       "range(0, 5)"
      ]
     },
     "execution_count": 4,
     "metadata": {},
     "output_type": "execute_result"
    }
   ],
   "source": [
    " range(5)"
   ]
  },
  {
   "cell_type": "code",
   "execution_count": 6,
   "id": "5ae63f3c-97f0-4b50-adc9-b14faf6ac78a",
   "metadata": {},
   "outputs": [
    {
     "data": {
      "text/plain": [
       "range(0, 9)"
      ]
     },
     "execution_count": 6,
     "metadata": {},
     "output_type": "execute_result"
    }
   ],
   "source": [
    "range(9)"
   ]
  },
  {
   "cell_type": "code",
   "execution_count": 8,
   "id": "447e69a1-3b10-4140-86cd-5bc95c892591",
   "metadata": {},
   "outputs": [
    {
     "name": "stdout",
     "output_type": "stream",
     "text": [
      "0\n",
      "1\n",
      "2\n",
      "3\n",
      "4\n"
     ]
    }
   ],
   "source": [
    "for i in range(5):\n",
    " print(i)"
   ]
  },
  {
   "cell_type": "code",
   "execution_count": 10,
   "id": "83d1a514-b4de-45e6-a98a-83bfe7d9ff88",
   "metadata": {},
   "outputs": [
    {
     "name": "stdout",
     "output_type": "stream",
     "text": [
      "0\n",
      "1\n",
      "2\n",
      "3\n",
      "4\n",
      "5\n",
      "6\n",
      "7\n",
      "8\n"
     ]
    }
   ],
   "source": [
    "for i in range(9):\n",
    "    print(i)"
   ]
  },
  {
   "cell_type": "code",
   "execution_count": 12,
   "id": "652f5cfa-1708-423c-a107-99f99a0d92a2",
   "metadata": {},
   "outputs": [
    {
     "name": "stdout",
     "output_type": "stream",
     "text": [
      "0\n",
      "1\n",
      "2\n",
      "3\n",
      "4\n",
      "5\n",
      "6\n",
      "7\n",
      "8\n",
      "9\n"
     ]
    }
   ],
   "source": [
    "for x in range(10):\n",
    "    print(x)"
   ]
  },
  {
   "cell_type": "code",
   "execution_count": 14,
   "id": "c7b2d013-8be8-4080-a0b3-6d91ccb797c0",
   "metadata": {},
   "outputs": [
    {
     "name": "stdout",
     "output_type": "stream",
     "text": [
      "0\n",
      "1\n",
      "2\n",
      "3\n",
      "4\n",
      "5\n",
      "6\n",
      "7\n",
      "8\n",
      "9\n",
      "10\n",
      "11\n",
      "12\n",
      "13\n",
      "14\n",
      "15\n",
      "16\n",
      "17\n",
      "18\n",
      "19\n",
      "20\n",
      "21\n"
     ]
    }
   ],
   "source": [
    "for y in range(22):\n",
    "    print(y)"
   ]
  },
  {
   "cell_type": "code",
   "execution_count": 16,
   "id": "a6cfa313-1503-494a-bb7c-5566249cfb37",
   "metadata": {},
   "outputs": [
    {
     "name": "stdout",
     "output_type": "stream",
     "text": [
      "0\n",
      "1\n",
      "2\n",
      "3\n"
     ]
    }
   ],
   "source": [
    "for a in range(4):\n",
    "    print(a)"
   ]
  },
  {
   "cell_type": "code",
   "execution_count": 18,
   "id": "71a85ac9-3a71-4135-800e-414a223cc2d9",
   "metadata": {},
   "outputs": [
    {
     "name": "stdout",
     "output_type": "stream",
     "text": [
      "0\n",
      "1\n",
      "2\n",
      "3\n",
      "4\n",
      "5\n",
      "6\n",
      "7\n",
      "8\n",
      "9\n",
      "10\n",
      "11\n",
      "12\n",
      "13\n",
      "14\n",
      "15\n",
      "16\n",
      "17\n",
      "18\n"
     ]
    }
   ],
   "source": [
    "for b in range(19):\n",
    "    print(b)"
   ]
  },
  {
   "cell_type": "markdown",
   "id": "cbb83467-7b76-4ea4-bf3f-f097eacd5f43",
   "metadata": {},
   "source": [
    "# using the range starting point and the ending point."
   ]
  },
  {
   "cell_type": "code",
   "execution_count": 20,
   "id": "5ceb1f91-a76e-470c-ab21-e9b5f5c16d98",
   "metadata": {},
   "outputs": [
    {
     "name": "stdout",
     "output_type": "stream",
     "text": [
      "1\n",
      "2\n",
      "3\n",
      "4\n",
      "5\n",
      "6\n",
      "7\n",
      "8\n",
      "9\n",
      "10\n"
     ]
    }
   ],
   "source": [
    "for i in range(1,11):\n",
    "    print(i)"
   ]
  },
  {
   "cell_type": "code",
   "execution_count": 22,
   "id": "18c3803b-4a1d-449e-a166-310d5105fb33",
   "metadata": {},
   "outputs": [
    {
     "name": "stdout",
     "output_type": "stream",
     "text": [
      "0\n",
      "1\n",
      "2\n",
      "3\n",
      "4\n",
      "5\n",
      "6\n",
      "7\n",
      "8\n",
      "9\n",
      "10\n",
      "11\n",
      "12\n",
      "13\n",
      "14\n",
      "15\n",
      "16\n",
      "17\n",
      "18\n"
     ]
    }
   ],
   "source": [
    "for i in range(0,19):\n",
    "    print(i)"
   ]
  },
  {
   "cell_type": "code",
   "execution_count": 29,
   "id": "ac050889-988a-46e4-a416-c59ef3e651a7",
   "metadata": {},
   "outputs": [
    {
     "name": "stdout",
     "output_type": "stream",
     "text": [
      "3\n",
      "4\n",
      "5\n",
      "6\n",
      "7\n",
      "8\n"
     ]
    }
   ],
   "source": [
    "for i in range(3,9):\n",
    "    print(i)"
   ]
  },
  {
   "cell_type": "code",
   "execution_count": 31,
   "id": "703837b1-fb4e-4f65-bbcf-435f92431b2e",
   "metadata": {},
   "outputs": [
    {
     "name": "stdout",
     "output_type": "stream",
     "text": [
      "10\n",
      "11\n",
      "12\n",
      "13\n",
      "14\n",
      "15\n",
      "16\n",
      "17\n",
      "18\n",
      "19\n"
     ]
    }
   ],
   "source": [
    "for j in range(10,20):\n",
    "    print(j)"
   ]
  },
  {
   "cell_type": "code",
   "execution_count": 33,
   "id": "b6921e0a-8b10-47c3-a913-2186f3dd8cea",
   "metadata": {},
   "outputs": [
    {
     "name": "stdout",
     "output_type": "stream",
     "text": [
      "1\n",
      "2\n",
      "3\n",
      "4\n",
      "5\n",
      "6\n",
      "7\n",
      "8\n",
      "9\n",
      "10\n",
      "11\n",
      "12\n",
      "13\n",
      "14\n",
      "15\n",
      "16\n",
      "17\n",
      "18\n",
      "19\n",
      "20\n"
     ]
    }
   ],
   "source": [
    "for i in range(1,21):\n",
    "    print(i)"
   ]
  },
  {
   "cell_type": "markdown",
   "id": "81e912f3-4e7a-4967-a250-f5fa811dd650",
   "metadata": {},
   "source": [
    "# range function using to starting and ending and the gap between start and end numners ."
   ]
  },
  {
   "cell_type": "code",
   "execution_count": 37,
   "id": "b928dc9e-c413-4ba6-9cc4-f11728d808bb",
   "metadata": {},
   "outputs": [
    {
     "name": "stdout",
     "output_type": "stream",
     "text": [
      "1\n",
      "3\n",
      "5\n",
      "7\n",
      "9\n"
     ]
    }
   ],
   "source": [
    "for i in range(1,10,2):\n",
    "    print(i)"
   ]
  },
  {
   "cell_type": "code",
   "execution_count": 39,
   "id": "bf4d9009-c458-4f97-b039-9221e201df78",
   "metadata": {},
   "outputs": [
    {
     "name": "stdout",
     "output_type": "stream",
     "text": [
      "1\n",
      "2\n",
      "3\n",
      "4\n",
      "5\n",
      "6\n",
      "7\n",
      "8\n",
      "9\n"
     ]
    }
   ],
   "source": [
    "for j in range(1,10,1):\n",
    "    print(j)"
   ]
  },
  {
   "cell_type": "code",
   "execution_count": 45,
   "id": "e22f52e2-95d8-4c12-8ff1-2b6534569465",
   "metadata": {},
   "outputs": [
    {
     "name": "stdout",
     "output_type": "stream",
     "text": [
      "2\n",
      "3\n",
      "4\n",
      "5\n",
      "6\n",
      "7\n",
      "8\n",
      "9\n"
     ]
    }
   ],
   "source": [
    "for i in range(2,10,1):\n",
    "    print(i)"
   ]
  },
  {
   "cell_type": "code",
   "execution_count": 47,
   "id": "0889550f-a537-4ec2-973d-a54f08031105",
   "metadata": {},
   "outputs": [
    {
     "name": "stdout",
     "output_type": "stream",
     "text": [
      "2\n",
      "4\n",
      "6\n",
      "8\n",
      "10\n",
      "12\n",
      "14\n",
      "16\n",
      "18\n",
      "20\n"
     ]
    }
   ],
   "source": [
    "for i in range(2,21,2):\n",
    "    print(i)"
   ]
  },
  {
   "cell_type": "code",
   "execution_count": 55,
   "id": "695038cc-ba38-4e8a-a247-a2ca6c36bef3",
   "metadata": {},
   "outputs": [
    {
     "name": "stdout",
     "output_type": "stream",
     "text": [
      "3\n",
      "6\n",
      "9\n",
      "12\n",
      "15\n",
      "18\n",
      "21\n",
      "24\n",
      "27\n",
      "30\n"
     ]
    }
   ],
   "source": [
    "for j in range(3,31,3):\n",
    "    print(j)"
   ]
  },
  {
   "cell_type": "code",
   "execution_count": 57,
   "id": "a9c95119-6ead-4987-a84e-6226e5741bb5",
   "metadata": {},
   "outputs": [
    {
     "name": "stdout",
     "output_type": "stream",
     "text": [
      "6\n",
      "12\n",
      "18\n",
      "24\n",
      "30\n",
      "36\n",
      "42\n",
      "48\n",
      "54\n",
      "60\n"
     ]
    }
   ],
   "source": [
    "for i in range(6,61,6):\n",
    "    print(i)"
   ]
  },
  {
   "cell_type": "code",
   "execution_count": 59,
   "id": "0cd53468-ba3d-4c34-a312-312d55f4f29d",
   "metadata": {},
   "outputs": [
    {
     "name": "stdout",
     "output_type": "stream",
     "text": [
      "4\n",
      "8\n",
      "12\n",
      "16\n",
      "20\n",
      "24\n",
      "28\n",
      "32\n",
      "36\n",
      "40\n"
     ]
    }
   ],
   "source": [
    "for a in range(4,41,4):\n",
    "    print(a)"
   ]
  },
  {
   "cell_type": "code",
   "execution_count": 63,
   "id": "8484b430-4e8f-453c-94a7-a290accb68a2",
   "metadata": {},
   "outputs": [
    {
     "name": "stdout",
     "output_type": "stream",
     "text": [
      "rohit\n",
      "rohit\n",
      "rohit\n",
      "rohit\n",
      "rohit\n",
      "rohit\n"
     ]
    }
   ],
   "source": [
    "for i in \"ankita\":\n",
    "    print(\"rohit\")"
   ]
  },
  {
   "cell_type": "code",
   "execution_count": 65,
   "id": "2be21ccb-fc3a-4e3f-9923-803a63fc1633",
   "metadata": {},
   "outputs": [
    {
     "name": "stdout",
     "output_type": "stream",
     "text": [
      "asmita\n",
      "asmita\n",
      "asmita\n",
      "asmita\n",
      "asmita\n",
      "asmita\n"
     ]
    }
   ],
   "source": [
    "for i in \"namita\":\n",
    "    print(\"asmita\")"
   ]
  },
  {
   "cell_type": "code",
   "execution_count": 67,
   "id": "114f0c36-479e-49aa-a74e-794eea2748e4",
   "metadata": {},
   "outputs": [
    {
     "name": "stdout",
     "output_type": "stream",
     "text": [
      "vinit jadhve\n",
      "vinit jadhve\n",
      "vinit jadhve\n",
      "vinit jadhve\n",
      "vinit jadhve\n"
     ]
    }
   ],
   "source": [
    "for l in \"sumit\":\n",
    "    print(\"vinit jadhve\")"
   ]
  },
  {
   "cell_type": "code",
   "execution_count": 69,
   "id": "25e6bc08-2a9e-457c-91cb-50c91b79a444",
   "metadata": {},
   "outputs": [
    {
     "name": "stdout",
     "output_type": "stream",
     "text": [
      "kumar\n",
      "kumar\n",
      "kumar\n",
      "kumar\n"
     ]
    }
   ],
   "source": [
    "for k in \"rani\":\n",
    "    print(\"kumar\")"
   ]
  },
  {
   "cell_type": "code",
   "execution_count": 81,
   "id": "66902aac-8608-45a2-93d0-bd88f5ef84ee",
   "metadata": {},
   "outputs": [
    {
     "name": "stdout",
     "output_type": "stream",
     "text": [
      "*********\n",
      "********\n",
      "*******\n",
      "******\n",
      "*****\n",
      "****\n",
      "***\n",
      "**\n",
      "*\n"
     ]
    }
   ],
   "source": [
    "for i in range(9,0,-1):\n",
    "    print('*' * i)"
   ]
  },
  {
   "cell_type": "code",
   "execution_count": 97,
   "id": "c23f1bcb-bcbf-46cd-9932-af143ced8e9e",
   "metadata": {},
   "outputs": [
    {
     "name": "stdout",
     "output_type": "stream",
     "text": [
      "$\n",
      "$\n",
      "$\n",
      "$\n",
      "$\n"
     ]
    }
   ],
   "source": [
    "for j in range(1,6):\n",
    "    print('$' * i)"
   ]
  },
  {
   "cell_type": "code",
   "execution_count": 99,
   "id": "44dee551-af4e-403c-bbe4-66a2875e5798",
   "metadata": {},
   "outputs": [
    {
     "name": "stdout",
     "output_type": "stream",
     "text": [
      ".\n",
      "..\n",
      "...\n",
      "....\n",
      ".....\n",
      "......\n",
      ".......\n",
      "........\n",
      ".........\n"
     ]
    }
   ],
   "source": [
    "for u in range(1,10):\n",
    "    print('.' * u)"
   ]
  },
  {
   "cell_type": "code",
   "execution_count": 109,
   "id": "24773a68-1e69-49d3-a509-bf351de4fb74",
   "metadata": {},
   "outputs": [
    {
     "name": "stdout",
     "output_type": "stream",
     "text": [
      "!!!!!!\n",
      "!!!!!\n",
      "!!!!\n",
      "!!!\n",
      "!!\n",
      "!\n"
     ]
    }
   ],
   "source": [
    "for num in range(6,0,-1):\n",
    "    print('!' * num)"
   ]
  },
  {
   "cell_type": "code",
   "execution_count": 115,
   "id": "fde2a06a-fbed-4132-83a5-814afb0cbff6",
   "metadata": {},
   "outputs": [
    {
     "name": "stdout",
     "output_type": "stream",
     "text": [
      "@@@@@@@@@\n",
      "@@@@@@@@\n",
      "@@@@@@@\n",
      "@@@@@@\n",
      "@@@@@\n",
      "@@@@\n",
      "@@@\n",
      "@@\n",
      "@\n"
     ]
    }
   ],
   "source": [
    "for u in range(9,0,-1):\n",
    "    print('@' * u)"
   ]
  },
  {
   "cell_type": "code",
   "execution_count": 1,
   "id": "0e245f7a-567a-4fdb-b4f6-e5e47905053d",
   "metadata": {},
   "outputs": [
    {
     "name": "stdout",
     "output_type": "stream",
     "text": [
      "#\n",
      "##\n",
      "###\n",
      "####\n",
      "#####\n",
      "######\n",
      "#######\n",
      "########\n",
      "#########\n"
     ]
    }
   ],
   "source": [
    "for u in range(1,10):\n",
    "    print('#' * u)"
   ]
  },
  {
   "cell_type": "code",
   "execution_count": 3,
   "id": "44a9f000-4552-4465-98ca-a1c6af20029a",
   "metadata": {},
   "outputs": [
    {
     "name": "stdout",
     "output_type": "stream",
     "text": [
      "&\n",
      "&&\n",
      "&&&\n",
      "&&&&\n",
      "&&&&&\n",
      "&&&&&&\n",
      "&&&&&&&\n",
      "&&&&&&&&\n",
      "&&&&&&&&&\n",
      "&&&&&&&&&&\n",
      "&&&&&&&&&&&\n",
      "&&&&&&&&&&&&\n",
      "&&&&&&&&&&&&&\n",
      "&&&&&&&&&&&&&&\n"
     ]
    }
   ],
   "source": [
    "for u in range(1,15):\n",
    "    print('&' * u)"
   ]
  },
  {
   "cell_type": "code",
   "execution_count": 5,
   "id": "2a407f46-5d1e-4e26-ae89-4636eb69c3f4",
   "metadata": {},
   "outputs": [
    {
     "name": "stdout",
     "output_type": "stream",
     "text": [
      "*\n",
      "**\n",
      "***\n",
      "****\n",
      "*****\n",
      "******\n",
      "*******\n"
     ]
    }
   ],
   "source": [
    "for u in range(1,8):\n",
    "    print('*' * u)"
   ]
  },
  {
   "cell_type": "code",
   "execution_count": 7,
   "id": "4733943a-15d4-4e2c-af38-df3cd591d9d9",
   "metadata": {},
   "outputs": [
    {
     "name": "stdout",
     "output_type": "stream",
     "text": [
      "!\n",
      "!!\n",
      "!!!\n",
      "!!!!\n",
      "!!!!!\n",
      "!!!!!!\n"
     ]
    }
   ],
   "source": [
    "for i in range(1,7):\n",
    "    print('!' * i)"
   ]
  },
  {
   "cell_type": "code",
   "execution_count": 9,
   "id": "d5e18909-7aaf-4fdc-8e76-867c59bacd90",
   "metadata": {},
   "outputs": [
    {
     "name": "stdout",
     "output_type": "stream",
     "text": [
      "%%%%%%%%%%\n",
      "%%%%%%%%%\n",
      "%%%%%%%%\n",
      "%%%%%%%\n",
      "%%%%%%\n",
      "%%%%%\n",
      "%%%%\n",
      "%%%\n",
      "%%\n",
      "%\n"
     ]
    }
   ],
   "source": [
    "for u in range(10,0,-1):\n",
    "    print('%' * u)"
   ]
  },
  {
   "cell_type": "code",
   "execution_count": 11,
   "id": "9c6d5882-5ee0-4b80-a802-c40f2e36ec0c",
   "metadata": {},
   "outputs": [
    {
     "name": "stdout",
     "output_type": "stream",
     "text": [
      "########\n",
      "#######\n",
      "######\n",
      "#####\n",
      "####\n",
      "###\n",
      "##\n",
      "#\n"
     ]
    }
   ],
   "source": [
    "for u in range(8,0,-1):\n",
    "    print('#' * u)"
   ]
  },
  {
   "cell_type": "markdown",
   "id": "c43f3043-6158-4ecd-bdc4-c48592e4eeca",
   "metadata": {},
   "source": [
    "# Nested loop"
   ]
  },
  {
   "cell_type": "code",
   "execution_count": 36,
   "id": "2dac61fd-dd2f-43e3-a90b-a9d3d27bff30",
   "metadata": {},
   "outputs": [],
   "source": [
    "l = [1,2,3,4,[1,2,3],5,6]"
   ]
  },
  {
   "cell_type": "code",
   "execution_count": 38,
   "id": "be55913f-0382-4fec-a15f-35b2bea0b6ab",
   "metadata": {},
   "outputs": [
    {
     "name": "stdout",
     "output_type": "stream",
     "text": [
      "1\n",
      "2\n",
      "3\n",
      "4\n",
      "[1, 2, 3]\n",
      "5\n",
      "6\n"
     ]
    }
   ],
   "source": [
    "for i in l:\n",
    "    print(i)"
   ]
  },
  {
   "cell_type": "code",
   "execution_count": 40,
   "id": "5f584682-073e-4115-82ee-2c24a27542b2",
   "metadata": {},
   "outputs": [],
   "source": [
    "s = [10,20,30,[1,2,3,4],40,50]"
   ]
  },
  {
   "cell_type": "code",
   "execution_count": 42,
   "id": "cb95813b-70ef-4d45-83e3-e247affdf59f",
   "metadata": {},
   "outputs": [
    {
     "name": "stdout",
     "output_type": "stream",
     "text": [
      "10\n",
      "20\n",
      "30\n",
      "[1, 2, 3, 4]\n",
      "40\n",
      "50\n"
     ]
    }
   ],
   "source": [
    "for j in s:\n",
    "    print(j)"
   ]
  },
  {
   "cell_type": "code",
   "execution_count": 44,
   "id": "5e61f3ea-5235-42ee-b617-d4394cc85d04",
   "metadata": {},
   "outputs": [],
   "source": [
    "q = [4,5,6,[11,12,13],6,7,8]"
   ]
  },
  {
   "cell_type": "code",
   "execution_count": 46,
   "id": "c17e6815-14ff-4c24-9d5e-dd4489152333",
   "metadata": {},
   "outputs": [
    {
     "name": "stdout",
     "output_type": "stream",
     "text": [
      "4\n",
      "5\n",
      "6\n",
      "[11, 12, 13]\n",
      "6\n",
      "7\n",
      "8\n"
     ]
    }
   ],
   "source": [
    "for i in q:\n",
    "    print(i)"
   ]
  },
  {
   "cell_type": "code",
   "execution_count": 48,
   "id": "f24e9198-b2d4-4fe1-b4ab-05f5fb66c4b7",
   "metadata": {},
   "outputs": [],
   "source": [
    "a = [11,12,13,14,[10,20,30,40],15,16]"
   ]
  },
  {
   "cell_type": "code",
   "execution_count": 50,
   "id": "414d2402-d8c1-4243-bc73-2e4658bf58a9",
   "metadata": {},
   "outputs": [
    {
     "name": "stdout",
     "output_type": "stream",
     "text": [
      "11\n",
      "12\n",
      "13\n",
      "14\n",
      "[10, 20, 30, 40]\n",
      "15\n",
      "16\n"
     ]
    }
   ],
   "source": [
    "for q in a:\n",
    "    print(q)"
   ]
  },
  {
   "cell_type": "code",
   "execution_count": 52,
   "id": "0f9a7333-f125-4cfa-8a13-e2da50eadc35",
   "metadata": {},
   "outputs": [],
   "source": [
    "z = [111,222,333,[10,20,30],444,555]"
   ]
  },
  {
   "cell_type": "code",
   "execution_count": 54,
   "id": "dd64c537-5432-4495-b29d-a5a2c5441bef",
   "metadata": {},
   "outputs": [
    {
     "name": "stdout",
     "output_type": "stream",
     "text": [
      "111\n",
      "222\n",
      "333\n",
      "[10, 20, 30]\n",
      "444\n",
      "555\n"
     ]
    }
   ],
   "source": [
    "for h in z:\n",
    "    print(h)"
   ]
  },
  {
   "cell_type": "markdown",
   "id": "7ddefb40-a2f9-47fa-b117-18fd8cb88331",
   "metadata": {},
   "source": [
    "# how to checks the data types...."
   ]
  },
  {
   "cell_type": "code",
   "execution_count": 1,
   "id": "1aec84bb-ded1-4d05-a8ab-c71f0adefa29",
   "metadata": {},
   "outputs": [],
   "source": [
    "d = [1,1.5,10+5j,'Hello',True]"
   ]
  },
  {
   "cell_type": "code",
   "execution_count": 5,
   "id": "ac51184a-8a9d-40e5-aa80-6605d6d89608",
   "metadata": {},
   "outputs": [
    {
     "name": "stdout",
     "output_type": "stream",
     "text": [
      "1 <class 'int'>\n",
      "1.5 <class 'float'>\n",
      "(10+5j) <class 'complex'>\n",
      "Hello <class 'str'>\n",
      "True <class 'bool'>\n"
     ]
    }
   ],
   "source": [
    "for i in d:\n",
    "    print(i, type(i))"
   ]
  },
  {
   "cell_type": "code",
   "execution_count": 11,
   "id": "8b9f300a-2f0d-4337-a2c7-7c6ba8967512",
   "metadata": {},
   "outputs": [],
   "source": [
    "a=[1,3,4,'hi',1.334,'om',10+5j,True]"
   ]
  },
  {
   "cell_type": "code",
   "execution_count": 13,
   "id": "6060a830-4bca-4446-b48b-6faa2156fb9b",
   "metadata": {},
   "outputs": [
    {
     "name": "stdout",
     "output_type": "stream",
     "text": [
      "1 <class 'int'>\n",
      "3 <class 'int'>\n",
      "4 <class 'int'>\n",
      "hi <class 'str'>\n",
      "1.334 <class 'float'>\n",
      "om <class 'str'>\n",
      "(10+5j) <class 'complex'>\n",
      "True <class 'bool'>\n"
     ]
    }
   ],
   "source": [
    "for i in a:\n",
    "    print(i,type(i))"
   ]
  },
  {
   "cell_type": "code",
   "execution_count": 15,
   "id": "dbbb45b5-b7f1-4538-8609-a0a5462d9bb6",
   "metadata": {},
   "outputs": [],
   "source": [
    "b=[True,'python',9,6,3.45,33.45,5+10j]"
   ]
  },
  {
   "cell_type": "code",
   "execution_count": 17,
   "id": "6da5febb-ba94-4ec9-81c8-c628f2727560",
   "metadata": {},
   "outputs": [
    {
     "name": "stdout",
     "output_type": "stream",
     "text": [
      "True <class 'bool'>\n",
      "python <class 'str'>\n",
      "9 <class 'int'>\n",
      "6 <class 'int'>\n",
      "3.45 <class 'float'>\n",
      "33.45 <class 'float'>\n",
      "(5+10j) <class 'complex'>\n"
     ]
    }
   ],
   "source": [
    "for i in b:\n",
    "    print(i,type(i))"
   ]
  },
  {
   "cell_type": "code",
   "execution_count": 19,
   "id": "c828de09-325d-4ba2-878c-b262b1642dd9",
   "metadata": {},
   "outputs": [],
   "source": [
    "f = [10,15.3,4,'H',True]"
   ]
  },
  {
   "cell_type": "code",
   "execution_count": 21,
   "id": "a7ce690c-0b63-4593-b246-496b19015284",
   "metadata": {},
   "outputs": [
    {
     "name": "stdout",
     "output_type": "stream",
     "text": [
      "10 <class 'int'>\n",
      "15.3 <class 'float'>\n",
      "4 <class 'int'>\n",
      "H <class 'str'>\n",
      "True <class 'bool'>\n"
     ]
    }
   ],
   "source": [
    "for i in f:\n",
    "    print(i, type(i))"
   ]
  },
  {
   "cell_type": "markdown",
   "id": "6329588f-d981-4006-8340-a7c04c9a292f",
   "metadata": {},
   "source": [
    "# filter out only the int type of data.."
   ]
  },
  {
   "cell_type": "code",
   "execution_count": 24,
   "id": "7cff4033-662b-432f-83ab-776405af3e9d",
   "metadata": {},
   "outputs": [],
   "source": [
    " a=[1,12,23,45,12.4,123.4,445.6,'hi',True,'python',False,'java',]"
   ]
  },
  {
   "cell_type": "code",
   "execution_count": 26,
   "id": "4ae1d967-0b12-418b-aa91-a3bd37c25ff7",
   "metadata": {},
   "outputs": [
    {
     "name": "stdout",
     "output_type": "stream",
     "text": [
      "1\n",
      "12\n",
      "23\n",
      "45\n"
     ]
    }
   ],
   "source": [
    "for i in a:\n",
    "    if type(i)==int:\n",
    "        print(i)\n",
    "    "
   ]
  },
  {
   "cell_type": "code",
   "execution_count": 30,
   "id": "01ae903a-5773-4c46-a1c6-72d9b8fab1d1",
   "metadata": {},
   "outputs": [],
   "source": [
    "b=[1.00,12,239,45.8,12.4,123,6,'hi',True,'python',False,'java',]"
   ]
  },
  {
   "cell_type": "code",
   "execution_count": 32,
   "id": "6226c766-b352-4a9c-8a24-1529c0503ac7",
   "metadata": {},
   "outputs": [
    {
     "name": "stdout",
     "output_type": "stream",
     "text": [
      "12\n",
      "239\n",
      "123\n",
      "6\n"
     ]
    }
   ],
   "source": [
    "for i in b:\n",
    "    if type(i)==int:\n",
    "        print(i)"
   ]
  },
  {
   "cell_type": "code",
   "execution_count": 34,
   "id": "45df3601-e13d-4158-8c51-4dfbc399bf84",
   "metadata": {},
   "outputs": [],
   "source": [
    "x=[1,20,34.55,56,78,1.44,'java',False,'c++']"
   ]
  },
  {
   "cell_type": "code",
   "execution_count": 36,
   "id": "e60bc0c5-0ea5-45a2-a322-7fd13923a7ca",
   "metadata": {},
   "outputs": [
    {
     "name": "stdout",
     "output_type": "stream",
     "text": [
      "1\n",
      "20\n",
      "56\n",
      "78\n"
     ]
    }
   ],
   "source": [
    "for i in x:\n",
    "    if type(i)==int:\n",
    "        print(i)"
   ]
  },
  {
   "cell_type": "code",
   "execution_count": 38,
   "id": "723d511e-df43-4ea5-b97d-b320e011d277",
   "metadata": {},
   "outputs": [],
   "source": [
    "y=[9,23.4,12,45.8,'c++','hi',True]"
   ]
  },
  {
   "cell_type": "code",
   "execution_count": 40,
   "id": "bd183a79-96ab-48ad-bb09-504f05a15f5b",
   "metadata": {},
   "outputs": [
    {
     "name": "stdout",
     "output_type": "stream",
     "text": [
      "9\n",
      "12\n"
     ]
    }
   ],
   "source": [
    "for i in y:\n",
    "    if type(i)==int:\n",
    "        print(i)"
   ]
  },
  {
   "cell_type": "code",
   "execution_count": 42,
   "id": "7aef373a-81ba-45f0-8494-09755ad57477",
   "metadata": {},
   "outputs": [],
   "source": [
    "p=['hi',True, 9,80,78.00,1,39,'java']"
   ]
  },
  {
   "cell_type": "code",
   "execution_count": 44,
   "id": "6310ebbd-0d7d-423c-bf06-827da9b9c393",
   "metadata": {},
   "outputs": [
    {
     "name": "stdout",
     "output_type": "stream",
     "text": [
      "9\n",
      "80\n",
      "1\n",
      "39\n"
     ]
    }
   ],
   "source": [
    "for i in p:\n",
    "    if type(i)==int:\n",
    "        print(i)\n",
    "        "
   ]
  },
  {
   "cell_type": "markdown",
   "id": "108d402b-27d9-48f9-9e9f-51ac4dcfe6e7",
   "metadata": {},
   "source": [
    " # filter out only the float type of data.."
   ]
  },
  {
   "cell_type": "code",
   "execution_count": 46,
   "id": "cb7610c3-e1cb-42a1-a5c3-4e65c731c0b8",
   "metadata": {},
   "outputs": [
    {
     "name": "stdout",
     "output_type": "stream",
     "text": [
      "78.0\n"
     ]
    }
   ],
   "source": [
    "for i in p:\n",
    "    if type(i)==float:\n",
    "        print(i)"
   ]
  },
  {
   "cell_type": "code",
   "execution_count": 48,
   "id": "83ea6bae-5956-4cfe-90f2-6633c51bca9a",
   "metadata": {},
   "outputs": [
    {
     "name": "stdout",
     "output_type": "stream",
     "text": [
      "1.0\n",
      "45.8\n",
      "12.4\n"
     ]
    }
   ],
   "source": [
    "for i in a:\n",
    "    if type(i)==float:\n",
    "        print(i)"
   ]
  },
  {
   "cell_type": "code",
   "execution_count": 50,
   "id": "0cf86ded-6b35-4cb1-97fa-e92a7f9eaf7f",
   "metadata": {},
   "outputs": [
    {
     "name": "stdout",
     "output_type": "stream",
     "text": [
      "1.0\n",
      "45.8\n",
      "12.4\n"
     ]
    }
   ],
   "source": [
    "for i in b:\n",
    "    if type(i)==float:\n",
    "        print(i)"
   ]
  },
  {
   "cell_type": "code",
   "execution_count": 52,
   "id": "a51700b5-1771-40d4-9340-9ebb66410a25",
   "metadata": {},
   "outputs": [
    {
     "name": "stdout",
     "output_type": "stream",
     "text": [
      "34.55\n",
      "1.44\n"
     ]
    }
   ],
   "source": [
    "for i in x:\n",
    "    if type(i)==float:\n",
    "        print(i)"
   ]
  },
  {
   "cell_type": "code",
   "execution_count": 54,
   "id": "00b4fb94-45e4-4775-a705-021303907ba2",
   "metadata": {},
   "outputs": [
    {
     "name": "stdout",
     "output_type": "stream",
     "text": [
      "23.4\n",
      "45.8\n"
     ]
    }
   ],
   "source": [
    "for i in y:\n",
    "    if type(i)==float:\n",
    "        print(i)"
   ]
  },
  {
   "cell_type": "markdown",
   "id": "1e155e7e-ac2c-4cc4-b008-98ff032de595",
   "metadata": {},
   "source": [
    "# filter out only the string type of data.."
   ]
  },
  {
   "cell_type": "code",
   "execution_count": 56,
   "id": "8721b21d-2c48-4788-8e55-5a3094a7737e",
   "metadata": {},
   "outputs": [
    {
     "name": "stdout",
     "output_type": "stream",
     "text": [
      "hi\n",
      "python\n",
      "java\n"
     ]
    }
   ],
   "source": [
    "for i in a:\n",
    "    if type(i)==str:\n",
    "        print(i)"
   ]
  },
  {
   "cell_type": "code",
   "execution_count": 58,
   "id": "d8a5193e-9711-47c3-a19c-091e21945818",
   "metadata": {},
   "outputs": [
    {
     "name": "stdout",
     "output_type": "stream",
     "text": [
      "hi\n",
      "python\n",
      "java\n"
     ]
    }
   ],
   "source": [
    "for i in b:\n",
    "    if type(i)==str:\n",
    "        print(i)"
   ]
  },
  {
   "cell_type": "code",
   "execution_count": 60,
   "id": "14aaf529-1ea5-4cdc-95f8-20598dd3a13c",
   "metadata": {},
   "outputs": [
    {
     "name": "stdout",
     "output_type": "stream",
     "text": [
      "java\n",
      "c++\n"
     ]
    }
   ],
   "source": [
    "for i in x:\n",
    "    if type(i)==str:\n",
    "        print(i)"
   ]
  },
  {
   "cell_type": "code",
   "execution_count": 64,
   "id": "85a3a325-dec6-4bcc-a088-6360c383dc53",
   "metadata": {},
   "outputs": [
    {
     "name": "stdout",
     "output_type": "stream",
     "text": [
      "c++\n",
      "hi\n"
     ]
    }
   ],
   "source": [
    "for i in y:\n",
    "    if type(i)==str:\n",
    "        print(i)"
   ]
  },
  {
   "cell_type": "code",
   "execution_count": 66,
   "id": "c691f106-af8d-48e0-8032-641982c56d95",
   "metadata": {},
   "outputs": [
    {
     "name": "stdout",
     "output_type": "stream",
     "text": [
      "hi\n",
      "java\n"
     ]
    }
   ],
   "source": [
    "for i in p:\n",
    "    if type(i)==str:\n",
    "        print(i)"
   ]
  },
  {
   "cell_type": "markdown",
   "id": "372d3e3c-e37c-41b0-9820-3f99660f9421",
   "metadata": {},
   "source": [
    " # filter out only the boolan type of data.."
   ]
  },
  {
   "cell_type": "code",
   "execution_count": 70,
   "id": "3267d434-3c2a-4327-b502-c4a56ef6253f",
   "metadata": {},
   "outputs": [
    {
     "name": "stdout",
     "output_type": "stream",
     "text": [
      "True\n",
      "False\n"
     ]
    }
   ],
   "source": [
    "for i in a:\n",
    "    if type(i)==bool:\n",
    "        print(i)"
   ]
  },
  {
   "cell_type": "code",
   "execution_count": 72,
   "id": "40e11018-4703-49d7-ba86-75f0a1ddd3a1",
   "metadata": {},
   "outputs": [
    {
     "name": "stdout",
     "output_type": "stream",
     "text": [
      "True\n",
      "False\n"
     ]
    }
   ],
   "source": [
    "for i in b:\n",
    "    if type(i)==bool:\n",
    "        print(i)"
   ]
  },
  {
   "cell_type": "code",
   "execution_count": 74,
   "id": "31c1321a-64ce-465c-a2a3-7440b458d1d3",
   "metadata": {},
   "outputs": [
    {
     "name": "stdout",
     "output_type": "stream",
     "text": [
      "False\n"
     ]
    }
   ],
   "source": [
    "for i in x:\n",
    "    if type(i)==bool:\n",
    "        print(i)"
   ]
  },
  {
   "cell_type": "code",
   "execution_count": 76,
   "id": "5f4f0e36-9248-4e97-8743-69593aecd11d",
   "metadata": {},
   "outputs": [
    {
     "name": "stdout",
     "output_type": "stream",
     "text": [
      "True\n"
     ]
    }
   ],
   "source": [
    "for i in y:\n",
    "    if type(i)==bool:\n",
    "        print(i)"
   ]
  },
  {
   "cell_type": "code",
   "execution_count": 78,
   "id": "0cc1b551-7805-48fc-a62e-385e1a64a4ce",
   "metadata": {},
   "outputs": [
    {
     "name": "stdout",
     "output_type": "stream",
     "text": [
      "True\n"
     ]
    }
   ],
   "source": [
    "for i in p:\n",
    "    if type(i)==bool:\n",
    "        print(i)"
   ]
  },
  {
   "cell_type": "code",
   "execution_count": null,
   "id": "de6ff30d-9d39-4026-b18a-889cb7207875",
   "metadata": {},
   "outputs": [],
   "source": []
  }
 ],
 "metadata": {
  "kernelspec": {
   "display_name": "Python [conda env:base] *",
   "language": "python",
   "name": "conda-base-py"
  },
  "language_info": {
   "codemirror_mode": {
    "name": "ipython",
    "version": 3
   },
   "file_extension": ".py",
   "mimetype": "text/x-python",
   "name": "python",
   "nbconvert_exporter": "python",
   "pygments_lexer": "ipython3",
   "version": "3.12.7"
  }
 },
 "nbformat": 4,
 "nbformat_minor": 5
}
