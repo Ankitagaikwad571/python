{
 "cells": [
  {
   "cell_type": "markdown",
   "id": "92730640-44cb-4039-b98f-53fc43d4b95f",
   "metadata": {},
   "source": [
    "# variable"
   ]
  },
  {
   "cell_type": "raw",
   "id": "30faa3ec-734b-4c50-b4e5-99e1b60b8863",
   "metadata": {},
   "source": [
    "# variable is used for storing data/ object"
   ]
  },
  {
   "cell_type": "code",
   "execution_count": 4,
   "id": "6834c677-d926-4a32-871d-3cccfe98ee1d",
   "metadata": {},
   "outputs": [
    {
     "data": {
      "text/plain": [
       "11"
      ]
     },
     "execution_count": 4,
     "metadata": {},
     "output_type": "execute_result"
    }
   ],
   "source": [
    "a=5\n",
    "b=6\n",
    "c=a+b\n",
    "c"
   ]
  },
  {
   "cell_type": "code",
   "execution_count": 1,
   "id": "8dd684bf-0f5f-430b-9d02-615d53edd4a9",
   "metadata": {},
   "outputs": [
    {
     "name": "stdin",
     "output_type": "stream",
     "text": [
      "name ankita\n"
     ]
    }
   ],
   "source": [
    "name = input(\"name\")"
   ]
  },
  {
   "cell_type": "code",
   "execution_count": 3,
   "id": "c0b3e0d9-ccbf-454c-9b8a-52df2654cae2",
   "metadata": {},
   "outputs": [
    {
     "data": {
      "text/plain": [
       "'ankita'"
      ]
     },
     "execution_count": 3,
     "metadata": {},
     "output_type": "execute_result"
    }
   ],
   "source": [
    "name"
   ]
  },
  {
   "cell_type": "code",
   "execution_count": 5,
   "id": "5d51e838-443b-4530-9076-d38e54b9d0a5",
   "metadata": {},
   "outputs": [
    {
     "name": "stdin",
     "output_type": "stream",
     "text": [
      "enter your name: rohit\n"
     ]
    }
   ],
   "source": [
    "name = input(\"enter your name:\")"
   ]
  },
  {
   "cell_type": "code",
   "execution_count": 7,
   "id": "bd817265-82a1-4d71-974e-59fb8c80db4d",
   "metadata": {},
   "outputs": [
    {
     "data": {
      "text/plain": [
       "'rohit'"
      ]
     },
     "execution_count": 7,
     "metadata": {},
     "output_type": "execute_result"
    }
   ],
   "source": [
    "name"
   ]
  },
  {
   "cell_type": "code",
   "execution_count": 13,
   "id": "2d780178-4063-4b0b-8428-7fdefdb63879",
   "metadata": {},
   "outputs": [],
   "source": [
    "x = \"my name is \" + name"
   ]
  },
  {
   "cell_type": "code",
   "execution_count": 15,
   "id": "ab44c742-acab-439c-affe-ac6b4ffaa9de",
   "metadata": {},
   "outputs": [
    {
     "data": {
      "text/plain": [
       "'my name is rohit'"
      ]
     },
     "execution_count": 15,
     "metadata": {},
     "output_type": "execute_result"
    }
   ],
   "source": [
    "x"
   ]
  },
  {
   "cell_type": "code",
   "execution_count": 17,
   "id": "5b7e4d1b-56e5-43a2-95e5-d84b47d6d1cf",
   "metadata": {},
   "outputs": [
    {
     "name": "stdin",
     "output_type": "stream",
     "text": [
      "write your frist name ankita\n",
      "write your last name gaikwad\n"
     ]
    }
   ],
   "source": [
    "frist_name = input(\"write your frist name\")\n",
    "last_name = input(\"write your last name\")\n",
    "full_name = frist_name +  ' ' + last_name"
   ]
  },
  {
   "cell_type": "code",
   "execution_count": 19,
   "id": "10ce5fc2-4186-439c-8866-3c3e7fe9ee69",
   "metadata": {},
   "outputs": [
    {
     "data": {
      "text/plain": [
       "'ankita gaikwad'"
      ]
     },
     "execution_count": 19,
     "metadata": {},
     "output_type": "execute_result"
    }
   ],
   "source": [
    "full_name"
   ]
  },
  {
   "cell_type": "code",
   "execution_count": 21,
   "id": "6fb03884-9420-4ad9-a6ea-0e39fcfc9b89",
   "metadata": {},
   "outputs": [
    {
     "name": "stdin",
     "output_type": "stream",
     "text": [
      "enter your age: 28\n"
     ]
    }
   ],
   "source": [
    "age= int(input(\"enter your age:\"))"
   ]
  },
  {
   "cell_type": "code",
   "execution_count": 23,
   "id": "a72e6b89-3394-474a-94d1-57f0277b74b2",
   "metadata": {},
   "outputs": [
    {
     "data": {
      "text/plain": [
       "28"
      ]
     },
     "execution_count": 23,
     "metadata": {},
     "output_type": "execute_result"
    }
   ],
   "source": [
    "age"
   ]
  },
  {
   "cell_type": "code",
   "execution_count": 25,
   "id": "ac6b696d-0cd6-4c41-b3e8-7a3254b42b8a",
   "metadata": {},
   "outputs": [
    {
     "data": {
      "text/plain": [
       "int"
      ]
     },
     "execution_count": 25,
     "metadata": {},
     "output_type": "execute_result"
    }
   ],
   "source": [
    "type(age)"
   ]
  },
  {
   "cell_type": "code",
   "execution_count": 27,
   "id": "f73290d5-4c6b-43c6-b332-714830c9be32",
   "metadata": {},
   "outputs": [
    {
     "name": "stdin",
     "output_type": "stream",
     "text": [
      "what is your whigt: 60\n"
     ]
    }
   ],
   "source": [
    "whigt = float(input(\"what is your whigt:\"))"
   ]
  },
  {
   "cell_type": "code",
   "execution_count": 29,
   "id": "ae17284c-0987-4631-aa84-be2c358dc3ba",
   "metadata": {},
   "outputs": [
    {
     "data": {
      "text/plain": [
       "60.0"
      ]
     },
     "execution_count": 29,
     "metadata": {},
     "output_type": "execute_result"
    }
   ],
   "source": [
    "whigt"
   ]
  },
  {
   "cell_type": "code",
   "execution_count": 32,
   "id": "76ae48da-f23d-4b68-bbb0-cffbcc1549f8",
   "metadata": {},
   "outputs": [
    {
     "name": "stdin",
     "output_type": "stream",
     "text": [
      "what is your higt 6\n"
     ]
    }
   ],
   "source": [
    "higt = int(input(\"what is your higt\"))"
   ]
  },
  {
   "cell_type": "code",
   "execution_count": 34,
   "id": "caa7432f-b4f4-4361-8c63-d9cee92ada6c",
   "metadata": {},
   "outputs": [
    {
     "data": {
      "text/plain": [
       "6"
      ]
     },
     "execution_count": 34,
     "metadata": {},
     "output_type": "execute_result"
    }
   ],
   "source": [
    "higt"
   ]
  },
  {
   "cell_type": "code",
   "execution_count": 36,
   "id": "dc825b84-76d9-4736-8437-e2d305c11f5e",
   "metadata": {},
   "outputs": [
    {
     "name": "stdin",
     "output_type": "stream",
     "text": [
      "what is your higt: 6.7\n"
     ]
    }
   ],
   "source": [
    "higt = float(input(\"what is your higt:\"))"
   ]
  },
  {
   "cell_type": "code",
   "execution_count": 38,
   "id": "b665c86d-068b-46bc-8f94-aa8ca706f3bb",
   "metadata": {},
   "outputs": [
    {
     "data": {
      "text/plain": [
       "6.7"
      ]
     },
     "execution_count": 38,
     "metadata": {},
     "output_type": "execute_result"
    }
   ],
   "source": [
    "higt"
   ]
  },
  {
   "cell_type": "code",
   "execution_count": 46,
   "id": "9171b151-ae97-4eab-abf1-ccc66683901e",
   "metadata": {},
   "outputs": [
    {
     "name": "stdin",
     "output_type": "stream",
     "text": [
      "what is your whigt 80\n"
     ]
    }
   ],
   "source": [
    "whigt = int(input(\"what is your whigt\"))"
   ]
  },
  {
   "cell_type": "code",
   "execution_count": 48,
   "id": "4ab64416-2544-4edd-8d78-8c90000125f9",
   "metadata": {},
   "outputs": [
    {
     "data": {
      "text/plain": [
       "80"
      ]
     },
     "execution_count": 48,
     "metadata": {},
     "output_type": "execute_result"
    }
   ],
   "source": [
    "whigt"
   ]
  },
  {
   "cell_type": "code",
   "execution_count": null,
   "id": "20fd4efd-430d-4354-b77a-2e7239a30efd",
   "metadata": {},
   "outputs": [],
   "source": []
  }
 ],
 "metadata": {
  "kernelspec": {
   "display_name": "Python [conda env:base] *",
   "language": "python",
   "name": "conda-base-py"
  },
  "language_info": {
   "codemirror_mode": {
    "name": "ipython",
    "version": 3
   },
   "file_extension": ".py",
   "mimetype": "text/x-python",
   "name": "python",
   "nbconvert_exporter": "python",
   "pygments_lexer": "ipython3",
   "version": "3.12.7"
  }
 },
 "nbformat": 4,
 "nbformat_minor": 5
}
