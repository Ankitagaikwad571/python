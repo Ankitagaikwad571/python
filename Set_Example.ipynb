{
 "cells": [
  {
   "cell_type": "markdown",
   "id": "f264c237-b06d-43e1-86ff-e0303838068d",
   "metadata": {},
   "source": [
    "# Set Examples"
   ]
  },
  {
   "cell_type": "raw",
   "id": "27356097-4d94-465c-b5bb-186d36a5ab44",
   "metadata": {},
   "source": [
    "1.how to count the set length?"
   ]
  },
  {
   "cell_type": "code",
   "execution_count": 2,
   "id": "e34d09c9-f225-474f-b687-dfd5752040ab",
   "metadata": {},
   "outputs": [
    {
     "data": {
      "text/plain": [
       "5"
      ]
     },
     "execution_count": 2,
     "metadata": {},
     "output_type": "execute_result"
    }
   ],
   "source": [
    "a={1,2,3,4,5}\n",
    "len(a)"
   ]
  },
  {
   "cell_type": "raw",
   "id": "1ebb10c2-e8fe-4796-bb01-58b18b6b9620",
   "metadata": {},
   "source": [
    "2.how to store out 9 and 9.0 as separeate values in set?"
   ]
  },
  {
   "cell_type": "code",
   "execution_count": 14,
   "id": "8086384a-3855-475f-87c4-3355d8334ef0",
   "metadata": {},
   "outputs": [
    {
     "name": "stdout",
     "output_type": "stream",
     "text": [
      "{9}\n"
     ]
    }
   ],
   "source": [
    "a={9,9.0}\n",
    "print(a)"
   ]
  },
  {
   "cell_type": "code",
   "execution_count": 6,
   "id": "692cefa3-9bdc-47ee-9a30-271e9d25ff75",
   "metadata": {},
   "outputs": [
    {
     "data": {
      "text/plain": [
       "{9, 9.4}"
      ]
     },
     "execution_count": 6,
     "metadata": {},
     "output_type": "execute_result"
    }
   ],
   "source": [
    "a={9,9.4}\n",
    "print(a)"
   ]
  },
  {
   "cell_type": "raw",
   "id": "5269925b-0060-40f1-a6a9-2e62bd5c8fb5",
   "metadata": {},
   "source": [
    "3.how to sort the elements in given set?"
   ]
  },
  {
   "cell_type": "code",
   "execution_count": 18,
   "id": "b9a18689-9f64-4ca2-ab21-9f29b6c98b80",
   "metadata": {},
   "outputs": [
    {
     "data": {
      "text/plain": [
       "['A', 'B', 'C', 'D']"
      ]
     },
     "execution_count": 18,
     "metadata": {},
     "output_type": "execute_result"
    }
   ],
   "source": [
    "a={\"A\",\"C\",\"B\",\"D\"}\n",
    "sorted(a)"
   ]
  },
  {
   "cell_type": "raw",
   "id": "0cdf4437-a72a-4c5f-8bfe-c589d71ebdaa",
   "metadata": {},
   "source": [
    "4.how to use the union function given the set?"
   ]
  },
  {
   "cell_type": "code",
   "execution_count": 10,
   "id": "63ad14e6-37b4-4c17-87a1-a9bec67f56f2",
   "metadata": {},
   "outputs": [
    {
     "data": {
      "text/plain": [
       "{1, 2, 3, 4, 5, 6, 7}"
      ]
     },
     "execution_count": 10,
     "metadata": {},
     "output_type": "execute_result"
    }
   ],
   "source": [
    "a={1,2,3,4}\n",
    "b={4,5,6,7}\n",
    "a.union(b)"
   ]
  },
  {
   "cell_type": "raw",
   "id": "2e8c71ed-3b95-4ee9-9d64-cc0acc212b3a",
   "metadata": {},
   "source": [
    "5.how to find out the intersection in set?"
   ]
  },
  {
   "cell_type": "code",
   "execution_count": 12,
   "id": "90be0446-4d02-45a5-9ac4-f7e08bde513a",
   "metadata": {},
   "outputs": [
    {
     "data": {
      "text/plain": [
       "{4}"
      ]
     },
     "execution_count": 12,
     "metadata": {},
     "output_type": "execute_result"
    }
   ],
   "source": [
    "a={1,2,3,4}\n",
    "b={4,5,6,7}\n",
    "a.intersection(b)"
   ]
  },
  {
   "cell_type": "code",
   "execution_count": null,
   "id": "68ade604-a81c-4a9c-81be-edd4d60dec5a",
   "metadata": {},
   "outputs": [],
   "source": []
  }
 ],
 "metadata": {
  "kernelspec": {
   "display_name": "Python [conda env:base] *",
   "language": "python",
   "name": "conda-base-py"
  },
  "language_info": {
   "codemirror_mode": {
    "name": "ipython",
    "version": 3
   },
   "file_extension": ".py",
   "mimetype": "text/x-python",
   "name": "python",
   "nbconvert_exporter": "python",
   "pygments_lexer": "ipython3",
   "version": "3.12.7"
  }
 },
 "nbformat": 4,
 "nbformat_minor": 5
}
