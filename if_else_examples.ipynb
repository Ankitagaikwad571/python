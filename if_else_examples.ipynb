{
 "cells": [
  {
   "cell_type": "code",
   "execution_count": 1,
   "id": "ab37b33d-7bf7-4f6a-a7a4-f6342f286001",
   "metadata": {},
   "outputs": [
    {
     "name": "stdout",
     "output_type": "stream",
     "text": [
      "I am Not in if\n"
     ]
    }
   ],
   "source": [
    "i = 10\n",
    "if i > 15:\n",
    "    print(\"10 is less than 15\")\n",
    "    \n",
    "print(\"I am Not in if\")"
   ]
  },
  {
   "cell_type": "code",
   "execution_count": 3,
   "id": "8709ff5a-cb77-42ce-8290-66b835765393",
   "metadata": {},
   "outputs": [
    {
     "name": "stdout",
     "output_type": "stream",
     "text": [
      "i is positive\n"
     ]
    }
   ],
   "source": [
    "i = 20\n",
    "if i > 0:\n",
    "    print(\"i is positive\")\n",
    "else:\n",
    "    print(\"i is 0 or Negative\")"
   ]
  },
  {
   "cell_type": "code",
   "execution_count": 5,
   "id": "be5863c7-338f-4a37-9837-fb51bd7f66a1",
   "metadata": {},
   "outputs": [
    {
     "name": "stdout",
     "output_type": "stream",
     "text": [
      "non of the statment\n"
     ]
    }
   ],
   "source": [
    "a = 33\n",
    "b = 20\n",
    "if b > a:\n",
    "  print(\"b is greater than a\")\n",
    "else:\n",
    "    print(\"non of the statment\")"
   ]
  },
  {
   "cell_type": "code",
   "execution_count": 7,
   "id": "5ccc58cc-f820-41a9-9020-47572fc98ede",
   "metadata": {},
   "outputs": [
    {
     "name": "stdout",
     "output_type": "stream",
     "text": [
      "b is greater than a\n"
     ]
    }
   ],
   "source": [
    "a = 20\n",
    "b = 30\n",
    "if b > a:\n",
    "    print(\"b is greater than a\")\n",
    "else:\n",
    "    print(\"not right statment..\")"
   ]
  },
  {
   "cell_type": "code",
   "execution_count": null,
   "id": "4a16eaca-3487-47b6-be63-41b6cfae3a50",
   "metadata": {},
   "outputs": [],
   "source": [
    "i = 10\n",
    "if i < 15:\n",
    "    print(\"10 is less than 15\")\n",
    "else: \n",
    "   print(\"I am Not in if\")"
   ]
  }
 ],
 "metadata": {
  "kernelspec": {
   "display_name": "Python [conda env:base] *",
   "language": "python",
   "name": "conda-base-py"
  },
  "language_info": {
   "codemirror_mode": {
    "name": "ipython",
    "version": 3
   },
   "file_extension": ".py",
   "mimetype": "text/x-python",
   "name": "python",
   "nbconvert_exporter": "python",
   "pygments_lexer": "ipython3",
   "version": "3.12.7"
  }
 },
 "nbformat": 4,
 "nbformat_minor": 5
}
