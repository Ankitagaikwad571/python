{
 "cells": [
  {
   "cell_type": "markdown",
   "id": "cddd70e4-680a-4a64-99a8-13fecdf5c226",
   "metadata": {},
   "source": [
    "# Defition of Function"
   ]
  },
  {
   "cell_type": "code",
   "execution_count": 1,
   "id": "145bb98a-0f27-4b2a-9371-f7fd484e2b3f",
   "metadata": {},
   "outputs": [],
   "source": [
    "def ankita():\n",
    "    print(\"hello\")"
   ]
  },
  {
   "cell_type": "code",
   "execution_count": 3,
   "id": "7adc6b66-c613-421d-ade8-86f9ed2f7522",
   "metadata": {},
   "outputs": [
    {
     "name": "stdout",
     "output_type": "stream",
     "text": [
      "hello\n"
     ]
    }
   ],
   "source": [
    "ankita()"
   ]
  },
  {
   "cell_type": "code",
   "execution_count": 10,
   "id": "86551132-4aac-443f-a902-242671bfafdc",
   "metadata": {},
   "outputs": [],
   "source": [
    "def test():\n",
    "    print(\"Enter your name:\")"
   ]
  },
  {
   "cell_type": "code",
   "execution_count": 12,
   "id": "95acfcf4-be54-45ca-99f3-69e0453abab8",
   "metadata": {},
   "outputs": [
    {
     "name": "stdout",
     "output_type": "stream",
     "text": [
      "Enter your name:\n"
     ]
    }
   ],
   "source": [
    "test()"
   ]
  },
  {
   "cell_type": "code",
   "execution_count": 14,
   "id": "f39dcee8-00f0-4209-9ccc-c5d54cd9637a",
   "metadata": {},
   "outputs": [],
   "source": [
    "def test1():\n",
    "    print(\"this is my function code block:\")"
   ]
  },
  {
   "cell_type": "code",
   "execution_count": 16,
   "id": "074c2951-ff58-4600-8348-e8d25890dce1",
   "metadata": {},
   "outputs": [
    {
     "name": "stdout",
     "output_type": "stream",
     "text": [
      "this is my function code block:\n"
     ]
    }
   ],
   "source": [
    "test1()"
   ]
  },
  {
   "cell_type": "code",
   "execution_count": 37,
   "id": "37ab820d-f2e6-44a2-9c1f-641a44e816bd",
   "metadata": {},
   "outputs": [],
   "source": [
    "def xyz():\n",
    "    print(\"hi python..\")"
   ]
  },
  {
   "cell_type": "code",
   "execution_count": 39,
   "id": "dce10199-3bfb-4b80-aabc-3c78d10e0580",
   "metadata": {},
   "outputs": [
    {
     "name": "stdout",
     "output_type": "stream",
     "text": [
      "hi python..\n"
     ]
    }
   ],
   "source": [
    "xyz()"
   ]
  },
  {
   "cell_type": "code",
   "execution_count": 41,
   "id": "572736fd-38dd-4411-b500-16d7b614e74a",
   "metadata": {},
   "outputs": [],
   "source": [
    "def abc():\n",
    "    print(\"hi..\")"
   ]
  },
  {
   "cell_type": "code",
   "execution_count": 43,
   "id": "41fefa93-996f-43a7-a780-706e8b807e13",
   "metadata": {},
   "outputs": [
    {
     "name": "stdout",
     "output_type": "stream",
     "text": [
      "hi..\n"
     ]
    }
   ],
   "source": [
    "abc()"
   ]
  },
  {
   "cell_type": "markdown",
   "id": "82560aca-aafc-4485-8b12-cf126b17f578",
   "metadata": {},
   "source": [
    "# write down the dockstring?"
   ]
  },
  {
   "cell_type": "code",
   "execution_count": 27,
   "id": "74082e50-0fc3-449e-bdea-ded53fd564d7",
   "metadata": {},
   "outputs": [],
   "source": [
    " def test2():\n",
    "     \"\"\" this is my code...\n",
    "     fuction code...\"\"\"\n",
    "     print(\"hello python..\")"
   ]
  },
  {
   "cell_type": "code",
   "execution_count": 29,
   "id": "991bb3de-95e1-45c3-a7a1-9acab6520cb2",
   "metadata": {},
   "outputs": [
    {
     "name": "stdout",
     "output_type": "stream",
     "text": [
      "hello python..\n"
     ]
    }
   ],
   "source": [
    "test2()"
   ]
  },
  {
   "cell_type": "code",
   "execution_count": 31,
   "id": "319dfeb8-b14b-47f8-8512-ed459291aa84",
   "metadata": {},
   "outputs": [],
   "source": [
    "def my_fuction():\n",
    "    \"\"\"hi python...\n",
    "    \"\"\"\n",
    "    print(\"python..\")"
   ]
  },
  {
   "cell_type": "code",
   "execution_count": 33,
   "id": "bf9dbc97-78bb-456d-9374-f4b87021a598",
   "metadata": {},
   "outputs": [
    {
     "name": "stdout",
     "output_type": "stream",
     "text": [
      "python..\n"
     ]
    }
   ],
   "source": [
    "my_fuction()"
   ]
  },
  {
   "cell_type": "code",
   "execution_count": 45,
   "id": "463377ca-70fc-48fe-ac7c-826e117bd9b0",
   "metadata": {},
   "outputs": [],
   "source": [
    "def xyz():\n",
    "    \"\"\"this is function...\"\"\"\n",
    "    print(\"fuction..name..\")"
   ]
  },
  {
   "cell_type": "code",
   "execution_count": 47,
   "id": "3cf2d7a0-17a3-4988-8a96-799a1fd9ccf3",
   "metadata": {},
   "outputs": [
    {
     "name": "stdout",
     "output_type": "stream",
     "text": [
      "fuction..name..\n"
     ]
    }
   ],
   "source": [
    "xyz()"
   ]
  },
  {
   "cell_type": "code",
   "execution_count": 49,
   "id": "628935fc-116b-4abe-9df6-683b40a00bcc",
   "metadata": {},
   "outputs": [],
   "source": [
    "def abc():\n",
    "    \"\"\" this is bock of code...\"\"\"\n",
    "    print(\"hi...\")"
   ]
  },
  {
   "cell_type": "code",
   "execution_count": 53,
   "id": "595b6640-841e-4236-99d2-2511a0c8ab3c",
   "metadata": {},
   "outputs": [
    {
     "name": "stdout",
     "output_type": "stream",
     "text": [
      "hi...\n"
     ]
    }
   ],
   "source": [
    "abc()"
   ]
  },
  {
   "cell_type": "code",
   "execution_count": 55,
   "id": "b42d6817-3a26-4247-ab87-d60b3a83f34f",
   "metadata": {},
   "outputs": [],
   "source": [
    "def fun():\n",
    "    \"\"\" this is fun..\"\"\"\n",
    "    print(\"hi..fun..\")"
   ]
  },
  {
   "cell_type": "code",
   "execution_count": 57,
   "id": "837ffb80-081e-432e-aafa-c139037ee296",
   "metadata": {},
   "outputs": [
    {
     "name": "stdout",
     "output_type": "stream",
     "text": [
      "hi..fun..\n"
     ]
    }
   ],
   "source": [
    "fun()"
   ]
  },
  {
   "cell_type": "markdown",
   "id": "3899eaa8-987a-40d1-9646-938b7970f093",
   "metadata": {},
   "source": [
    "# type of function"
   ]
  },
  {
   "cell_type": "code",
   "execution_count": 69,
   "id": "5af3c23c-1dea-4c9c-94ee-78092ad45f0c",
   "metadata": {},
   "outputs": [],
   "source": [
    "def sum():\n",
    "    return \"ankita\""
   ]
  },
  {
   "cell_type": "code",
   "execution_count": 71,
   "id": "f93bb085-eb12-476a-8ac5-916301a4802a",
   "metadata": {},
   "outputs": [
    {
     "data": {
      "text/plain": [
       "'ankita'"
      ]
     },
     "execution_count": 71,
     "metadata": {},
     "output_type": "execute_result"
    }
   ],
   "source": [
    "sum()"
   ]
  },
  {
   "cell_type": "code",
   "execution_count": 73,
   "id": "9963167c-e8af-4dc9-89cd-36a08e25e5bb",
   "metadata": {},
   "outputs": [
    {
     "data": {
      "text/plain": [
       "str"
      ]
     },
     "execution_count": 73,
     "metadata": {},
     "output_type": "execute_result"
    }
   ],
   "source": [
    "type(sum())"
   ]
  },
  {
   "cell_type": "code",
   "execution_count": 76,
   "id": "285d2e5d-9100-440e-b763-faaa386f4502",
   "metadata": {},
   "outputs": [],
   "source": [
    "def abc():\n",
    "    return 5"
   ]
  },
  {
   "cell_type": "code",
   "execution_count": 78,
   "id": "e5f7786e-9fa9-4dce-86b2-40c4482cbfcd",
   "metadata": {},
   "outputs": [
    {
     "data": {
      "text/plain": [
       "int"
      ]
     },
     "execution_count": 78,
     "metadata": {},
     "output_type": "execute_result"
    }
   ],
   "source": [
    "type(abc())"
   ]
  },
  {
   "cell_type": "code",
   "execution_count": 80,
   "id": "b0a3dbd9-beec-478c-afa0-d9f24419f301",
   "metadata": {},
   "outputs": [],
   "source": [
    "def add():\n",
    "    return 12.4"
   ]
  },
  {
   "cell_type": "code",
   "execution_count": 82,
   "id": "6972e973-90a3-462b-b5f6-f90f41765f98",
   "metadata": {},
   "outputs": [
    {
     "data": {
      "text/plain": [
       "float"
      ]
     },
     "execution_count": 82,
     "metadata": {},
     "output_type": "execute_result"
    }
   ],
   "source": [
    "type(add())"
   ]
  },
  {
   "cell_type": "code",
   "execution_count": 84,
   "id": "2746e5e2-8c41-49ee-991b-56bafd43a839",
   "metadata": {},
   "outputs": [],
   "source": [
    "def sub():\n",
    "    return 10+5j"
   ]
  },
  {
   "cell_type": "code",
   "execution_count": 86,
   "id": "b59812bd-273c-4067-806a-c059fc2b8aa2",
   "metadata": {},
   "outputs": [
    {
     "data": {
      "text/plain": [
       "complex"
      ]
     },
     "execution_count": 86,
     "metadata": {},
     "output_type": "execute_result"
    }
   ],
   "source": [
    "type(sub())"
   ]
  },
  {
   "cell_type": "code",
   "execution_count": 88,
   "id": "5b6e3180-5b02-4c1e-9e4b-423d5d91ba20",
   "metadata": {},
   "outputs": [],
   "source": [
    "def com():\n",
    "    return True"
   ]
  },
  {
   "cell_type": "code",
   "execution_count": 90,
   "id": "fad77b5f-f69c-4f23-920d-e0631cc6f983",
   "metadata": {},
   "outputs": [
    {
     "data": {
      "text/plain": [
       "bool"
      ]
     },
     "execution_count": 90,
     "metadata": {},
     "output_type": "execute_result"
    }
   ],
   "source": [
    "type(com())"
   ]
  },
  {
   "cell_type": "code",
   "execution_count": null,
   "id": "16ec6a5a-7249-4737-a6e1-318f3ed77cf5",
   "metadata": {},
   "outputs": [],
   "source": []
  }
 ],
 "metadata": {
  "kernelspec": {
   "display_name": "Python [conda env:base] *",
   "language": "python",
   "name": "conda-base-py"
  },
  "language_info": {
   "codemirror_mode": {
    "name": "ipython",
    "version": 3
   },
   "file_extension": ".py",
   "mimetype": "text/x-python",
   "name": "python",
   "nbconvert_exporter": "python",
   "pygments_lexer": "ipython3",
   "version": "3.12.7"
  }
 },
 "nbformat": 4,
 "nbformat_minor": 5
}
